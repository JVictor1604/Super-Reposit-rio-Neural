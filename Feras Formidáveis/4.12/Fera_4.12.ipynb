{
 "cells": [
  {
   "cell_type": "markdown",
   "metadata": {},
   "source": [
    "Para garantir essa restrição em todas as etapas do algoritmo, foram adotadas as seguintes medidas:\n",
    "\n",
    "1. **Geração da população inicial**:\n",
    "   - Candidatos são gerados aleatoriamente até conterem pelo menos uma vogal.\n",
    "\n",
    "2. **Cruzamento**:\n",
    "   - Foi implementado um cruzamento uniforme personalizado que assegura que os filhos gerados recebam ao menos uma vogal, \n",
    "     mesmo quando os genes dos pais não são completamente balanceados em relação a vogais.\n",
    "\n",
    "3. **Mutação**:\n",
    "   - As funções de mutação (simples e por salto) evitam remover a única vogal presente em um indivíduo.\n",
    "   - Mutação só é aceita se, após a alteração, o indivíduo continuar contendo pelo menos uma vogal.\n",
    "\n",
    "Essas estratégias garantem que todos os indivíduos da população, desde a geração até as próximas gerações\n",
    "produzidas por cruzamento e mutação, respeitem a restrição do problema.\n",
    "\n",
    "\n",
    "\n"
   ]
  },
  {
   "cell_type": "markdown",
   "metadata": {},
   "source": [
    "Função Objetivo: Avaliação da qualidade de um candidato a palíndromo.\n",
    "\n",
    "A função `funcao_objetivo_palindromo` mede o quão próximo um indivíduo está de ser um palíndromo perfeito.\n",
    "\n",
    "Estratégia:\n",
    "- Compara os caracteres simetricamente posicionados (início com fim, segundo com penúltimo, etc.).\n",
    "- Para cada par, calcula a **distância absoluta entre os códigos ASCII** das letras.\n",
    "- Soma todas essas distâncias: quanto **menor o valor**, mais próximo o indivíduo está de ser um palíndromo.\n",
    "\n",
    "Resultado:\n",
    "- Um valor de **zero** indica que o indivíduo é um palíndromo perfeito (ex: \"radar\").\n",
    "- Valores maiores indicam maiores distorções em relação à simetria esperada de um palíndromo."
   ]
  },
  {
   "cell_type": "code",
   "execution_count": 1,
   "metadata": {},
   "outputs": [],
   "source": [
    "import random\n",
    "from string import ascii_lowercase\n",
    "from pprint import pprint\n",
    "\n",
    "from funcoes_fera_4_12 import populacao_palindromo as cria_populacao\n",
    "from funcoes_fera_4_12 import funcao_objetivo_pop_palindromo as funcao_objetivo\n",
    "from funcoes_fera_4_12 import selecao_torneio_min as funcao_selecao\n",
    "from funcoes_fera_4_12 import cruzamento_uniforme_com_vogal as funcao_cruzamento\n",
    "from funcoes_fera_4_12 import mutacao_simples as funcao_mutacao1\n",
    "from funcoes_fera_4_12 import mutacao_salto as funcao_mutacao2"
   ]
  },
  {
   "cell_type": "code",
   "execution_count": 2,
   "metadata": {},
   "outputs": [],
   "source": [
    "CARACTERES_POSSIVEIS = ascii_lowercase\n",
    "\n",
    "TAMANHO_POPULACAO = 100\n",
    "TAMANHO_PALINDROMO = 5\n",
    "CHANCE_DE_CRUZAMENTO = 0.5\n",
    "CHANCE_DE_MUTACAO = 0.025\n",
    "TAMANHO_TORNEIO = 3\n",
    "\n",
    "populacao = cria_populacao(TAMANHO_POPULACAO, TAMANHO_PALINDROMO, CARACTERES_POSSIVEIS)\n",
    "menor_fitness_geral = float(\"inf\")\n",
    "geracao = 0\n"
   ]
  },
  {
   "cell_type": "code",
   "execution_count": 3,
   "metadata": {},
   "outputs": [
    {
     "data": {
      "text/plain": [
       "100"
      ]
     },
     "execution_count": 3,
     "metadata": {},
     "output_type": "execute_result"
    }
   ],
   "source": [
    "len(populacao)"
   ]
  },
  {
   "cell_type": "code",
   "execution_count": 4,
   "metadata": {},
   "outputs": [],
   "source": [
    "fitness = funcao_objetivo(populacao)        \n",
    "selecionados = funcao_selecao(populacao, fitness, TAMANHO_TORNEIO)"
   ]
  },
  {
   "cell_type": "code",
   "execution_count": 5,
   "metadata": {},
   "outputs": [
    {
     "data": {
      "text/plain": [
       "[['m', 'e', 'a', 'd', 'j'],\n",
       " ['s', 'u', 'b', 's', 'r'],\n",
       " ['i', 'h', 'z', 'o', 'i'],\n",
       " ['q', 'e', 't', 'e', 'o'],\n",
       " ['v', 'j', 'o', 'h', 'x'],\n",
       " ['y', 'o', 's', 'm', 'w'],\n",
       " ['w', 'q', 'w', 'o', 'z'],\n",
       " ['i', 't', 'z', 't', 'j'],\n",
       " ['u', 'g', 'k', 'q', 'x'],\n",
       " ['o', 'v', 'w', 's', 'g'],\n",
       " ['q', 'e', 't', 'e', 'o'],\n",
       " ['i', 'h', 'z', 'o', 'i'],\n",
       " ['l', 'f', 'j', 'o', 'g'],\n",
       " ['u', 'w', 'k', 'x', 'v'],\n",
       " ['e', 'r', 'h', 'z', 'l'],\n",
       " ['c', 'w', 'm', 'u', 'a'],\n",
       " ['l', 't', 'k', 'p', 'i'],\n",
       " ['i', 'l', 'p', 'n', 'j'],\n",
       " ['i', 'h', 'z', 'o', 'i'],\n",
       " ['i', 'h', 'z', 'o', 'i'],\n",
       " ['i', 'n', 'h', 'g', 'g'],\n",
       " ['y', 'b', 'l', 'a', 'l'],\n",
       " ['y', 'r', 'o', 'f', 'y'],\n",
       " ['l', 'v', 'd', 'o', 'r'],\n",
       " ['v', 'j', 'o', 'h', 'x'],\n",
       " ['i', 'l', 'p', 'n', 'j'],\n",
       " ['i', 'l', 'p', 'n', 'j'],\n",
       " ['p', 'c', 'i', 'l', 'y'],\n",
       " ['f', 'x', 'q', 'u', 'm'],\n",
       " ['i', 'h', 'z', 'o', 'i'],\n",
       " ['p', 'r', 'k', 'i', 'm'],\n",
       " ['j', 'i', 'd', 'd', 'g'],\n",
       " ['s', 'u', 'b', 's', 'r'],\n",
       " ['w', 'q', 'w', 'o', 'z'],\n",
       " ['u', 'g', 'k', 'q', 'x'],\n",
       " ['l', 't', 'k', 'p', 'i'],\n",
       " ['j', 'q', 'c', 'g', 'e'],\n",
       " ['i', 'h', 'z', 'o', 'i'],\n",
       " ['i', 'h', 'z', 'o', 'i'],\n",
       " ['b', 'o', 'l', 's', 'l'],\n",
       " ['u', 'a', 'x', 'e', 'n'],\n",
       " ['y', 'o', 's', 'm', 'w'],\n",
       " ['p', 'o', 'n', 'u', 'p'],\n",
       " ['d', 'm', 'z', 'h', 'e'],\n",
       " ['h', 'h', 'b', 'r', 'a'],\n",
       " ['r', 'i', 'o', 'f', 'g'],\n",
       " ['l', 'a', 'i', 'g', 'f'],\n",
       " ['c', 'j', 'a', 'k', 'h'],\n",
       " ['z', 'i', 'i', 'w', 'z'],\n",
       " ['u', 'w', 'k', 'x', 'v'],\n",
       " ['p', 'o', 'n', 'u', 'p'],\n",
       " ['t', 'g', 'e', 'l', 'x'],\n",
       " ['w', 'q', 'w', 'o', 'z'],\n",
       " ['d', 'm', 'z', 'h', 'e'],\n",
       " ['t', 'g', 'e', 'l', 'x'],\n",
       " ['g', 'h', 'b', 'c', 'u'],\n",
       " ['s', 'u', 'b', 's', 'r'],\n",
       " ['i', 'd', 'b', 'a', 'c'],\n",
       " ['y', 'o', 's', 'm', 'w'],\n",
       " ['x', 'k', 'z', 'a', 'q'],\n",
       " ['h', 't', 'g', 'i', 'r'],\n",
       " ['z', 'g', 'g', 'i', 'o'],\n",
       " ['z', 'i', 'i', 'w', 'z'],\n",
       " ['h', 'h', 'b', 'r', 'a'],\n",
       " ['r', 'i', 'v', 'm', 'y'],\n",
       " ['m', 'e', 'a', 'd', 'j'],\n",
       " ['i', 'h', 'z', 'o', 'i'],\n",
       " ['j', 'i', 'd', 'd', 'g'],\n",
       " ['q', 'e', 't', 'e', 'o'],\n",
       " ['u', 'w', 'k', 'x', 'v'],\n",
       " ['u', 'g', 'k', 'q', 'x'],\n",
       " ['c', 'j', 'a', 'k', 'h'],\n",
       " ['v', 'j', 'o', 'h', 'x'],\n",
       " ['t', 'u', 'c', 'm', 'x'],\n",
       " ['g', 'h', 'b', 'c', 'u'],\n",
       " ['q', 'e', 't', 'e', 'o'],\n",
       " ['i', 't', 'z', 't', 'j'],\n",
       " ['q', 'x', 'o', 'y', 'u'],\n",
       " ['v', 'j', 'o', 'h', 'x'],\n",
       " ['c', 'w', 'm', 'u', 'a'],\n",
       " ['p', 'o', 'o', 'y', 'k'],\n",
       " ['x', 'e', 'c', 'a', 'e'],\n",
       " ['y', 'o', 's', 'm', 'w'],\n",
       " ['v', 'j', 'o', 'h', 'x'],\n",
       " ['b', 'o', 'l', 's', 'l'],\n",
       " ['l', 't', 'k', 'p', 'i'],\n",
       " ['c', 'w', 'm', 'u', 'a'],\n",
       " ['j', 'i', 'd', 'd', 'g'],\n",
       " ['e', 'i', 'e', 'h', 'a'],\n",
       " ['i', 't', 'z', 't', 'j'],\n",
       " ['l', 'v', 'd', 'o', 'r'],\n",
       " ['s', 'u', 'b', 's', 'r'],\n",
       " ['u', 'w', 'k', 'x', 'v'],\n",
       " ['a', 'k', 'g', 'q', 'a'],\n",
       " ['k', 'g', 'm', 'o', 'j'],\n",
       " ['b', 'y', 'o', 'w', 'o'],\n",
       " ['i', 'l', 'p', 'n', 'j'],\n",
       " ['e', 'z', 'n', 'z', 'a'],\n",
       " ['c', 'j', 'a', 'k', 'h'],\n",
       " ['r', 'i', 'o', 'f', 'g']]"
      ]
     },
     "execution_count": 5,
     "metadata": {},
     "output_type": "execute_result"
    }
   ],
   "source": [
    "selecionados"
   ]
  },
  {
   "cell_type": "code",
   "execution_count": 6,
   "metadata": {},
   "outputs": [
    {
     "name": "stdout",
     "output_type": "stream",
     "text": [
      "1 ydley\n",
      "3 yeley\n",
      "1 etgte\n",
      "1 owdxo\n",
      "5 owkwo\n",
      "1 vvzvu\n",
      "2 uvzvu\n",
      "1 vmimw\n",
      "5 ipxpi\n",
      "1 yifhz\n",
      "4 yogoz\n",
      "12 yogoy\n",
      "1 ezpxe\n",
      "4 qiojq\n",
      "5 qjojq\n",
      "1 tvevt\n",
      "1 giiih\n",
      "4 ciaic\n",
      "1 xewey\n",
      "6 yewey\n"
     ]
    }
   ],
   "source": [
    "palindromos = []\n",
    "\n",
    "for _ in range(10):\n",
    "\n",
    "    CARACTERES_POSSIVEIS = ascii_lowercase\n",
    "\n",
    "    TAMANHO_POPULACAO = 100\n",
    "    TAMANHO_PALINDROMO = 5\n",
    "    CHANCE_DE_CRUZAMENTO = 0.5\n",
    "    CHANCE_DE_MUTACAO = 0.025\n",
    "    TAMANHO_TORNEIO = 3\n",
    "\n",
    "    populacao = cria_populacao(TAMANHO_POPULACAO, TAMANHO_PALINDROMO, CARACTERES_POSSIVEIS)\n",
    "    menor_fitness_geral = float(\"inf\")\n",
    "    geracao = 0\n",
    "    \n",
    "    while menor_fitness_geral != 0:\n",
    "        \n",
    "        # Seleção\n",
    "        fitness = funcao_objetivo(populacao)        \n",
    "        selecionados = funcao_selecao(populacao, fitness, TAMANHO_TORNEIO)\n",
    "        \n",
    "        # Cruzamento\n",
    "        proxima_geracao = []\n",
    "        for pai, mae in zip(selecionados[::2], selecionados[1::2]):\n",
    "            individuo1, individuo2 = funcao_cruzamento(pai, mae, CHANCE_DE_CRUZAMENTO)\n",
    "            proxima_geracao.append(individuo1)\n",
    "            proxima_geracao.append(individuo2)\n",
    "        \n",
    "        # Mutação\n",
    "        funcao_mutacao1(proxima_geracao, CHANCE_DE_MUTACAO, list(CARACTERES_POSSIVEIS))\n",
    "        funcao_mutacao2(proxima_geracao, CHANCE_DE_MUTACAO, list(CARACTERES_POSSIVEIS))\n",
    "        \n",
    "        # Encerramento\n",
    "        populacao = proxima_geracao\n",
    "        geracao += 1\n",
    "\n",
    "        \n",
    "        fitness = funcao_objetivo(populacao)\n",
    "        menor_fitness_observado = min(fitness)\n",
    "        \n",
    "        if menor_fitness_observado < menor_fitness_geral:\n",
    "            menor_fitness_geral = menor_fitness_observado\n",
    "            indice = fitness.index(menor_fitness_observado)\n",
    "            candidato = populacao[indice]\n",
    "            print(geracao, \"\".join(candidato))\n",
    "\n",
    "    indice = fitness.index(menor_fitness_geral)\n",
    "    palindromos.append(populacao[indice])\n",
    "\n"
   ]
  },
  {
   "cell_type": "code",
   "execution_count": 7,
   "metadata": {},
   "outputs": [
    {
     "name": "stdout",
     "output_type": "stream",
     "text": [
      "['yeley', 'etgte', 'owkwo', 'uvzvu', 'ipxpi', 'yogoy', 'qjojq', 'tvevt', 'ciaic', 'yewey']\n"
     ]
    }
   ],
   "source": [
    "palindromos\n",
    "\n",
    "palindrimos_encontrados = [''.join(palavra) for palavra in palindromos]\n",
    "\n",
    "print(palindrimos_encontrados)"
   ]
  },
  {
   "cell_type": "markdown",
   "metadata": {},
   "source": [
    "Conclusão\n",
    "\n",
    "O algoritmo genético proposto foi eficaz na resolução do problema, conseguindo gerar 10 candidatos que atendem aos critérios estabelecidos: formar palíndromos e conter pelo menos uma vogal. As adaptações nas funções de geração, cruzamento e mutação garantiram o respeito a essas restrições, permitindo que a população evoluísse corretamente até soluções válidas. O resultado mostra que, com ajustes direcionados, algoritmos genéticos podem resolver problemas simbólicos com sucesso."
   ]
  },
  {
   "cell_type": "markdown",
   "metadata": {},
   "source": [
    "### Referência\n",
    "\n",
    "1. Cassar, Daniel R. \"ATP-303 GA 4.2 - Notebook descobrindo a senha\"."
   ]
  },
  {
   "cell_type": "markdown",
   "metadata": {},
   "source": []
  }
 ],
 "metadata": {
  "kernelspec": {
   "display_name": "base",
   "language": "python",
   "name": "python3"
  },
  "language_info": {
   "codemirror_mode": {
    "name": "ipython",
    "version": 3
   },
   "file_extension": ".py",
   "mimetype": "text/x-python",
   "name": "python",
   "nbconvert_exporter": "python",
   "pygments_lexer": "ipython3",
   "version": "3.11.5"
  }
 },
 "nbformat": 4,
 "nbformat_minor": 2
}
