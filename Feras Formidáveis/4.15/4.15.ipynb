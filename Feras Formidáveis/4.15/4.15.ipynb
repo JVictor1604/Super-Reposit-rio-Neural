{
 "cells": [
  {
   "cell_type": "markdown",
   "metadata": {},
   "source": [
    "## 4.15 Vai pra lá ou vem pra cá!\n",
    "\n",
    "\n",
    "Alunos: José Victor da Silva izidório\n",
    "\n",
    "Objetivo: Implemente o operador genético de migração no código de algoritmo\n",
    "genético desenvolvido nesta disciplina (isto é, não é para usar o DEAP). Conte para o\n",
    "leitor sobre como a sua implementação funciona e mostre ela em ação.\n",
    "\n",
    "Para resolver esse problema, vou aproveitar a Fera 4.12 que encontra palíndromos de 5 letras que possuam pelo menos uma vogal. Sendo assim, irei importar as mesmas funções. A idéia é utilizar a mesma estrutura, mas, dessa vez, irei utilizar um operador de migração. O objetivo aqui não será comparar a performance, já que isso requer um algoritmo mais otimizado para realizar diversas amostragens, então irei focar no operador em si."
   ]
  },
  {
   "cell_type": "markdown",
   "metadata": {},
   "source": [
    "## Operador de Migração em Algoritmos Genéticos\n",
    "\n",
    "### O que é?\n",
    "\n",
    "O operador de migração é uma técnica usada em algoritmos genéticos que trabalham com várias populações paralelas, chamadas de ilhas. Cada ilha evolui de forma independente, mas periodicamente alguns indivíduos são trocados entre elas.\n",
    "\n",
    "### Para que serve?\n",
    "\n",
    "- **Manter a diversidade genética** entre populações.\n",
    "- **Evitar convergência prematura** em soluções locais.\n",
    "- **Compartilhar boas soluções** entre as populações para acelerar a busca pelo ótimo.\n",
    "\n",
    "### Como foi implementado neste código?\n",
    "\n",
    "No código:\n",
    "\n",
    "- Temos 10 ilhas (populações) evoluindo paralelamente.\n",
    "- A cada intervalo definido (`MIGRACAO_INTERVALO`), ocorre a migração.\n",
    "- Os melhores indivíduos de cada ilha são selecionados para migrar.\n",
    "- Esses indivíduos substituem os piores indivíduos da ilha vizinha (seguindo um ciclo entre as ilhas).\n",
    "- Isso promove a renovação genética e a troca de boas características entre as populações.\n",
    "\n",
    "\n"
   ]
  },
  {
   "cell_type": "code",
   "execution_count": 8,
   "metadata": {},
   "outputs": [],
   "source": [
    "import random\n",
    "from string import ascii_lowercase\n",
    "from pprint import pprint\n",
    "\n",
    "from funcoes_fera_4_12 import populacao_palindromo as cria_populacao\n",
    "from funcoes_fera_4_12 import funcao_objetivo_pop_palindromo as funcao_objetivo\n",
    "from funcoes_fera_4_12 import selecao_torneio_min as funcao_selecao\n",
    "from funcoes_fera_4_12 import cruzamento_uniforme_com_vogal as funcao_cruzamento\n",
    "from funcoes_fera_4_12 import mutacao_simples as funcao_mutacao1\n",
    "from funcoes_fera_4_12 import mutacao_salto as funcao_mutacao2\n",
    "from funcoes_fera_4_12 import migracao"
   ]
  },
  {
   "cell_type": "code",
   "execution_count": 9,
   "metadata": {},
   "outputs": [],
   "source": [
    "CARACTERES_POSSIVEIS = ascii_lowercase\n",
    "\n",
    "TAMANHO_POPULACAO = 100\n",
    "TAMANHO_PALINDROMO = 5\n",
    "CHANCE_DE_CRUZAMENTO = 0.5\n",
    "CHANCE_DE_MUTACAO = 0.025\n",
    "TAMANHO_TORNEIO = 3\n",
    "MIGRACAO_INTERVALO = 20\n",
    "NUM_MIGRANTES = 5\n",
    "\n",
    "\n",
    "NUM_ILHAS = 10\n",
    "populacoes = [cria_populacao(TAMANHO_POPULACAO, TAMANHO_PALINDROMO, CARACTERES_POSSIVEIS) for _ in range(NUM_ILHAS)]\n",
    "menores_fitness_gerais = [float(\"inf\")] * NUM_ILHAS\n",
    "geracoes = [0] * NUM_ILHAS\n",
    "\n",
    "MIGRACAO_INTERVALO = 20 \n",
    "\n"
   ]
  },
  {
   "cell_type": "code",
   "execution_count": 10,
   "metadata": {},
   "outputs": [
    {
     "data": {
      "text/plain": [
       "10"
      ]
     },
     "execution_count": 10,
     "metadata": {},
     "output_type": "execute_result"
    }
   ],
   "source": [
    "len(populacoes)"
   ]
  },
  {
   "cell_type": "code",
   "execution_count": 11,
   "metadata": {},
   "outputs": [
    {
     "name": "stdout",
     "output_type": "stream",
     "text": [
      "Ilha 0 - Geração 1 - Fitness 0 - oxqxo\n",
      "Ilha 1 - Geração 1 - Fitness 0 - qutuq\n",
      "Ilha 2 - Geração 1 - Fitness 1 - adfea\n",
      "Ilha 3 - Geração 1 - Fitness 2 - cuotb\n",
      "Ilha 4 - Geração 1 - Fitness 2 - otkvo\n",
      "Ilha 5 - Geração 1 - Fitness 0 - obbbo\n",
      "Ilha 6 - Geração 1 - Fitness 0 - imbmi\n",
      "Ilha 7 - Geração 1 - Fitness 1 - pprop\n",
      "Ilha 8 - Geração 1 - Fitness 0 - ugmgu\n",
      "Ilha 9 - Geração 1 - Fitness 2 - rcicp\n"
     ]
    }
   ],
   "source": [
    "while all(fitness > 0 for fitness in menores_fitness_gerais):\n",
    "    for i in range(NUM_ILHAS):\n",
    "        if menores_fitness_gerais[i] == 0:\n",
    "            continue\n",
    "\n",
    "        fitness = funcao_objetivo(populacoes[i])\n",
    "        selecionados = funcao_selecao(populacoes[i], fitness, TAMANHO_TORNEIO)\n",
    "\n",
    "        proxima_geracao = []\n",
    "        for pai, mae in zip(selecionados[::2], selecionados[1::2]):\n",
    "            individuo1, individuo2 = funcao_cruzamento(pai, mae, CHANCE_DE_CRUZAMENTO)\n",
    "            proxima_geracao.append(individuo1)\n",
    "            proxima_geracao.append(individuo2)\n",
    "\n",
    "        funcao_mutacao1(proxima_geracao, CHANCE_DE_MUTACAO, list(CARACTERES_POSSIVEIS))\n",
    "        funcao_mutacao2(proxima_geracao, CHANCE_DE_MUTACAO, list(CARACTERES_POSSIVEIS))\n",
    "\n",
    "        populacoes[i] = proxima_geracao\n",
    "        geracoes[i] += 1\n",
    "\n",
    "        fitness = funcao_objetivo(populacoes[i])\n",
    "        menor_fitness_observado = min(fitness)\n",
    "\n",
    "        if menor_fitness_observado < menores_fitness_gerais[i]:\n",
    "            menores_fitness_gerais[i] = menor_fitness_observado\n",
    "            indice = fitness.index(menor_fitness_observado)\n",
    "            candidato = populacoes[i][indice]\n",
    "            print(f\"Ilha {i} - Geração {geracoes[i]} - Fitness {menor_fitness_observado} - {''.join(candidato)}\")\n",
    "\n",
    "    if any(geracoes[i] % MIGRACAO_INTERVALO == 0 for i in range(NUM_ILHAS)):\n",
    "        migracao(populacoes, NUM_MIGRANTES)\n"
   ]
  },
  {
   "cell_type": "code",
   "execution_count": 13,
   "metadata": {},
   "outputs": [
    {
     "name": "stdout",
     "output_type": "stream",
     "text": [
      "['oxqxo', 'qutuq', 'adfea', 'cuotb', 'otkvo', 'obbbo', 'imbmi', 'pprop', 'ugmgu', 'rcicp']\n"
     ]
    }
   ],
   "source": [
    "palindromos = []\n",
    "\n",
    "for i in range(NUM_ILHAS):\n",
    "    fitness = funcao_objetivo(populacoes[i])\n",
    "    indice = fitness.index(min(fitness))\n",
    "    palindromos.append(populacoes[i][indice])\n",
    "\n",
    "# palindromos agora tem 10 palíndromos otimizados\n",
    "palindrimos_encontrados = [''.join(palavra) for palavra in palindromos]\n",
    "\n",
    "print(palindrimos_encontrados)"
   ]
  },
  {
   "cell_type": "markdown",
   "metadata": {},
   "source": []
  },
  {
   "cell_type": "markdown",
   "metadata": {},
   "source": []
  }
 ],
 "metadata": {
  "kernelspec": {
   "display_name": "base",
   "language": "python",
   "name": "python3"
  },
  "language_info": {
   "codemirror_mode": {
    "name": "ipython",
    "version": 3
   },
   "file_extension": ".py",
   "mimetype": "text/x-python",
   "name": "python",
   "nbconvert_exporter": "python",
   "pygments_lexer": "ipython3",
   "version": "3.11.5"
  }
 },
 "nbformat": 4,
 "nbformat_minor": 2
}
