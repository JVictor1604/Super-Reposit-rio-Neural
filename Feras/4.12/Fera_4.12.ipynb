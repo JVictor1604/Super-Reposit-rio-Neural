{
 "cells": [
  {
   "cell_type": "markdown",
   "metadata": {},
   "source": [
    "Para garantir essa restrição em todas as etapas do algoritmo, foram adotadas as seguintes medidas:\n",
    "\n",
    "1. **Geração da população inicial**:\n",
    "   - Candidatos são gerados aleatoriamente até conterem pelo menos uma vogal.\n",
    "\n",
    "2. **Cruzamento**:\n",
    "   - Foi implementado um cruzamento uniforme personalizado que assegura que os filhos gerados recebam ao menos uma vogal, \n",
    "     mesmo quando os genes dos pais não são completamente balanceados em relação a vogais.\n",
    "\n",
    "3. **Mutação**:\n",
    "   - As funções de mutação (simples e por salto) evitam remover a única vogal presente em um indivíduo.\n",
    "   - Mutação só é aceita se, após a alteração, o indivíduo continuar contendo pelo menos uma vogal.\n",
    "\n",
    "Essas estratégias garantem que todos os indivíduos da população, desde a geração até as próximas gerações\n",
    "produzidas por cruzamento e mutação, respeitem a restrição do problema.\n",
    "\n",
    "\n",
    "\n"
   ]
  },
  {
   "cell_type": "markdown",
   "metadata": {},
   "source": [
    "Função Objetivo: Avaliação da qualidade de um candidato a palíndromo.\n",
    "\n",
    "A função `funcao_objetivo_palindromo` mede o quão próximo um indivíduo está de ser um palíndromo perfeito.\n",
    "\n",
    "Estratégia:\n",
    "- Compara os caracteres simetricamente posicionados (início com fim, segundo com penúltimo, etc.).\n",
    "- Para cada par, calcula a **distância absoluta entre os códigos ASCII** das letras.\n",
    "- Soma todas essas distâncias: quanto **menor o valor**, mais próximo o indivíduo está de ser um palíndromo.\n",
    "\n",
    "Resultado:\n",
    "- Um valor de **zero** indica que o indivíduo é um palíndromo perfeito (ex: \"radar\").\n",
    "- Valores maiores indicam maiores distorções em relação à simetria esperada de um palíndromo."
   ]
  },
  {
   "cell_type": "code",
   "execution_count": 23,
   "metadata": {},
   "outputs": [],
   "source": [
    "import random\n",
    "from string import ascii_lowercase\n",
    "from pprint import pprint\n",
    "\n",
    "from funcoes_fera_4_12 import populacao_palindromo as cria_populacao\n",
    "from funcoes_fera_4_12 import funcao_objetivo_pop_palindromo as funcao_objetivo\n",
    "from funcoes_fera_4_12 import selecao_torneio_min as funcao_selecao\n",
    "from funcoes_fera_4_12 import cruzamento_uniforme_com_vogal as funcao_cruzamento\n",
    "from funcoes_fera_4_12 import mutacao_simples as funcao_mutacao1\n",
    "from funcoes_fera_4_12 import mutacao_salto as funcao_mutacao2"
   ]
  },
  {
   "cell_type": "code",
   "execution_count": 24,
   "metadata": {},
   "outputs": [],
   "source": [
    "CARACTERES_POSSIVEIS = ascii_lowercase\n",
    "\n",
    "TAMANHO_POPULACAO = 100\n",
    "TAMANHO_PALINDROMO = 5\n",
    "CHANCE_DE_CRUZAMENTO = 0.5\n",
    "CHANCE_DE_MUTACAO = 0.025\n",
    "TAMANHO_TORNEIO = 3\n",
    "\n",
    "populacao = cria_populacao(TAMANHO_POPULACAO, TAMANHO_PALINDROMO, CARACTERES_POSSIVEIS)\n",
    "menor_fitness_geral = float(\"inf\")\n",
    "geracao = 0\n"
   ]
  },
  {
   "cell_type": "code",
   "execution_count": 25,
   "metadata": {},
   "outputs": [
    {
     "data": {
      "text/plain": [
       "100"
      ]
     },
     "execution_count": 25,
     "metadata": {},
     "output_type": "execute_result"
    }
   ],
   "source": [
    "len(populacao)"
   ]
  },
  {
   "cell_type": "code",
   "execution_count": 26,
   "metadata": {},
   "outputs": [],
   "source": [
    "fitness = funcao_objetivo(populacao)        \n",
    "selecionados = funcao_selecao(populacao, fitness, TAMANHO_TORNEIO)"
   ]
  },
  {
   "cell_type": "code",
   "execution_count": 27,
   "metadata": {},
   "outputs": [
    {
     "data": {
      "text/plain": [
       "[['s', 's', 'h', 'u', 'j'],\n",
       " ['l', 'e', 'i', 's', 'q'],\n",
       " ['r', 'y', 'i', 'u', 'l'],\n",
       " ['e', 'o', 'b', 'm', 'r'],\n",
       " ['p', 's', 'a', 'a', 'l'],\n",
       " ['u', 's', 'j', 'q', 'o'],\n",
       " ['o', 'c', 'l', 'e', 'u'],\n",
       " ['a', 'z', 'l', 'u', 'f'],\n",
       " ['u', 'o', 's', 'n', 'q'],\n",
       " ['l', 'a', 'a', 'b', 'p'],\n",
       " ['n', 'j', 'w', 'h', 'o'],\n",
       " ['p', 'f', 'u', 'g', 'm'],\n",
       " ['a', 't', 'x', 'o', 'c'],\n",
       " ['l', 's', 'j', 'x', 'o'],\n",
       " ['c', 'h', 'u', 'h', 'h'],\n",
       " ['d', 'o', 'k', 'o', 'e'],\n",
       " ['a', 'q', 'o', 'n', 'j'],\n",
       " ['s', 'h', 'c', 'h', 'u'],\n",
       " ['p', 'f', 'u', 'g', 'm'],\n",
       " ['o', 'i', 'g', 'i', 'm'],\n",
       " ['p', 'w', 'd', 'w', 'a'],\n",
       " ['s', 'h', 'c', 'h', 'u'],\n",
       " ['u', 'o', 's', 'n', 'q'],\n",
       " ['a', 'z', 'l', 'u', 'f'],\n",
       " ['g', 'a', 'u', 'k', 'r'],\n",
       " ['a', 't', 'e', 'u', 'i'],\n",
       " ['i', 'q', 'g', 'a', 'a'],\n",
       " ['a', 'a', 'm', 'h', 'h'],\n",
       " ['c', 'h', 'u', 'h', 'h'],\n",
       " ['a', 't', 'x', 'o', 'c'],\n",
       " ['e', 'o', 'b', 'm', 'r'],\n",
       " ['e', 'g', 'y', 'k', 'u'],\n",
       " ['t', 'd', 'e', 't', 'u'],\n",
       " ['p', 'f', 'u', 'g', 'm'],\n",
       " ['z', 's', 'r', 'u', 'k'],\n",
       " ['q', 'l', 'i', 'z', 's'],\n",
       " ['p', 'w', 'd', 'w', 'a'],\n",
       " ['l', 'a', 'a', 'b', 'p'],\n",
       " ['m', 'e', 'o', 'i', 'm'],\n",
       " ['r', 'i', 's', 't', 'k'],\n",
       " ['a', 'z', 'l', 'u', 'f'],\n",
       " ['a', 'z', 'l', 'u', 'f'],\n",
       " ['o', 'c', 'l', 'e', 'u'],\n",
       " ['b', 'i', 'u', 'f', 'i'],\n",
       " ['o', 'c', 'l', 'e', 'u'],\n",
       " ['u', 'o', 's', 'n', 'q'],\n",
       " ['c', 'a', 'f', 'h', 'j'],\n",
       " ['h', 'o', 'f', 'g', 'a'],\n",
       " ['e', 'r', 'w', 's', 'n'],\n",
       " ['o', 't', 'z', 'd', 'n'],\n",
       " ['o', 'i', 'g', 'i', 'm'],\n",
       " ['a', 'a', 'm', 'h', 'h'],\n",
       " ['g', 'i', 'f', 'l', 'l'],\n",
       " ['b', 'c', 'z', 'o', 'a'],\n",
       " ['v', 'h', 'i', 'r', 'x'],\n",
       " ['l', 's', 'j', 'x', 'o'],\n",
       " ['o', 'i', 'g', 'i', 'm'],\n",
       " ['l', 's', 'j', 'x', 'o'],\n",
       " ['d', 'i', 'm', 'l', 'n'],\n",
       " ['u', 'x', 'n', 'e', 'x'],\n",
       " ['i', 'q', 'z', 'w', 'r'],\n",
       " ['e', 'o', 'b', 'm', 'r'],\n",
       " ['s', 'h', 'c', 'h', 'u'],\n",
       " ['n', 'j', 'w', 'h', 'o'],\n",
       " ['m', 'e', 'o', 'i', 'm'],\n",
       " ['u', 'o', 's', 'n', 'q'],\n",
       " ['o', 'i', 'g', 'i', 'm'],\n",
       " ['b', 'o', 'g', 'l', 'd'],\n",
       " ['n', 'j', 'w', 'h', 'o'],\n",
       " ['v', 'h', 'i', 'r', 'x'],\n",
       " ['a', 't', 'e', 'u', 'i'],\n",
       " ['u', 'o', 's', 'n', 'q'],\n",
       " ['w', 'j', 'w', 'u', 'g'],\n",
       " ['b', 'o', 'g', 'l', 'd'],\n",
       " ['z', 'a', 'u', 'f', 'z'],\n",
       " ['o', 'i', 'g', 'i', 'm'],\n",
       " ['j', 'u', 's', 'z', 'm'],\n",
       " ['n', 'j', 'w', 'h', 'o'],\n",
       " ['a', 'q', 'o', 'n', 'j'],\n",
       " ['o', 'c', 'l', 'e', 'u'],\n",
       " ['z', 'a', 'u', 'f', 'z'],\n",
       " ['u', 'o', 's', 'n', 'q'],\n",
       " ['b', 'p', 'n', 'i', 'p'],\n",
       " ['e', 'l', 'd', 'u', 'i'],\n",
       " ['p', 'w', 'd', 'w', 'a'],\n",
       " ['o', 'i', 'g', 'i', 'm'],\n",
       " ['r', 'e', 'v', 'g', 'h'],\n",
       " ['u', 'x', 'n', 'e', 'x'],\n",
       " ['d', 'i', 'm', 'l', 'n'],\n",
       " ['a', 't', 'e', 'u', 'i'],\n",
       " ['i', 's', 'm', 'h', 'm'],\n",
       " ['a', 'z', 'l', 'u', 'f'],\n",
       " ['d', 'o', 'k', 'o', 'e'],\n",
       " ['u', 'o', 's', 'n', 'q'],\n",
       " ['b', 'o', 'g', 'l', 'd'],\n",
       " ['y', 'u', 'o', 't', 'v'],\n",
       " ['r', 'e', 'v', 'g', 'h'],\n",
       " ['v', 'o', 'p', 'w', 's'],\n",
       " ['v', 'o', 'i', 'r', 'p'],\n",
       " ['o', 'i', 'g', 'i', 'm']]"
      ]
     },
     "execution_count": 27,
     "metadata": {},
     "output_type": "execute_result"
    }
   ],
   "source": [
    "selecionados"
   ]
  },
  {
   "cell_type": "code",
   "execution_count": 28,
   "metadata": {},
   "outputs": [
    {
     "name": "stdout",
     "output_type": "stream",
     "text": [
      "1 kojpk\n",
      "6 kojok\n",
      "1 ofofm\n",
      "2 ifnfi\n",
      "1 tqepr\n",
      "3 tkekr\n",
      "6 nkeko\n",
      "10 ukeku\n",
      "1 peoeo\n",
      "2 peoep\n",
      "1 jiqji\n",
      "2 mntom\n",
      "8 mokom\n",
      "1 pufuo\n",
      "6 sugus\n",
      "1 dgbed\n",
      "2 jecei\n",
      "9 gooog\n",
      "1 scvas\n",
      "14 savas\n",
      "1 etjud\n",
      "3 etktd\n",
      "6 etkte\n",
      "1 cxuxc\n"
     ]
    }
   ],
   "source": [
    "palindromos = []\n",
    "\n",
    "for _ in range(10):\n",
    "\n",
    "    CARACTERES_POSSIVEIS = ascii_lowercase\n",
    "\n",
    "    TAMANHO_POPULACAO = 100\n",
    "    TAMANHO_PALINDROMO = 5\n",
    "    CHANCE_DE_CRUZAMENTO = 0.5\n",
    "    CHANCE_DE_MUTACAO = 0.025\n",
    "    TAMANHO_TORNEIO = 3\n",
    "\n",
    "    populacao = cria_populacao(TAMANHO_POPULACAO, TAMANHO_PALINDROMO, CARACTERES_POSSIVEIS)\n",
    "    menor_fitness_geral = float(\"inf\")\n",
    "    geracao = 0\n",
    "    \n",
    "    while menor_fitness_geral != 0:\n",
    "        \n",
    "        # Seleção\n",
    "        fitness = funcao_objetivo(populacao)        \n",
    "        selecionados = funcao_selecao(populacao, fitness, TAMANHO_TORNEIO)\n",
    "        \n",
    "        # Cruzamento\n",
    "        proxima_geracao = []\n",
    "        for pai, mae in zip(selecionados[::2], selecionados[1::2]):\n",
    "            individuo1, individuo2 = funcao_cruzamento(pai, mae, CHANCE_DE_CRUZAMENTO)\n",
    "            proxima_geracao.append(individuo1)\n",
    "            proxima_geracao.append(individuo2)\n",
    "        \n",
    "        # Mutação\n",
    "        funcao_mutacao1(proxima_geracao, CHANCE_DE_MUTACAO, list(CARACTERES_POSSIVEIS))\n",
    "        funcao_mutacao2(proxima_geracao, CHANCE_DE_MUTACAO, list(CARACTERES_POSSIVEIS))\n",
    "        \n",
    "        # Encerramento\n",
    "        populacao = proxima_geracao\n",
    "        geracao += 1\n",
    "\n",
    "        \n",
    "        fitness = funcao_objetivo(populacao)\n",
    "        menor_fitness_observado = min(fitness)\n",
    "        \n",
    "        if menor_fitness_observado < menor_fitness_geral:\n",
    "            menor_fitness_geral = menor_fitness_observado\n",
    "            indice = fitness.index(menor_fitness_observado)\n",
    "            candidato = populacao[indice]\n",
    "            print(geracao, \"\".join(candidato))\n",
    "\n",
    "    indice = fitness.index(menor_fitness_geral)\n",
    "    palindromos.append(populacao[indice])\n",
    "\n"
   ]
  },
  {
   "cell_type": "code",
   "execution_count": 29,
   "metadata": {},
   "outputs": [
    {
     "name": "stdout",
     "output_type": "stream",
     "text": [
      "['kojok', 'ifnfi', 'ukeku', 'peoep', 'mokom', 'sugus', 'gooog', 'savas', 'etkte', 'cxuxc']\n"
     ]
    }
   ],
   "source": [
    "palindromos\n",
    "\n",
    "palindrimos_encontrados = [''.join(palavra) for palavra in palindromos]\n",
    "\n",
    "print(palindrimos_encontrados)"
   ]
  },
  {
   "cell_type": "markdown",
   "metadata": {},
   "source": [
    "Conclusão\n",
    "\n",
    "O algoritmo genético proposto foi eficaz na resolução do problema, conseguindo gerar 10 candidatos que atendem aos critérios estabelecidos: formar palíndromos e conter pelo menos uma vogal. As adaptações nas funções de geração, cruzamento e mutação garantiram o respeito a essas restrições, permitindo que a população evoluísse corretamente até soluções válidas. O resultado mostra que, com ajustes direcionados, algoritmos genéticos podem resolver problemas simbólicos com sucesso."
   ]
  }
 ],
 "metadata": {
  "kernelspec": {
   "display_name": "base",
   "language": "python",
   "name": "python3"
  },
  "language_info": {
   "codemirror_mode": {
    "name": "ipython",
    "version": 3
   },
   "file_extension": ".py",
   "mimetype": "text/x-python",
   "name": "python",
   "nbconvert_exporter": "python",
   "pygments_lexer": "ipython3",
   "version": "3.11.5"
  }
 },
 "nbformat": 4,
 "nbformat_minor": 2
}
