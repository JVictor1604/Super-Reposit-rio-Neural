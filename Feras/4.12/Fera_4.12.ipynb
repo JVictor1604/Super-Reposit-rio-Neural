{
 "cells": [
  {
   "cell_type": "code",
   "execution_count": 2,
   "metadata": {},
   "outputs": [],
   "source": [
    "import random\n",
    "from string import ascii_lowercase\n",
    "from pprint import pprint\n",
    "\n",
    "from funcoes_fera_4_12 import populacao_palindromo as cria_populacao\n",
    "from funcoes_fera_4_12 import funcao_objetivo_pop_palindromo as funcao_objetivo\n",
    "from funcoes_fera_4_12 import selecao_torneio_min as funcao_selecao\n",
    "from funcoes_fera_4_12 import cruzamento_uniforme as funcao_cruzamento\n",
    "from funcoes_fera_4_12 import mutacao_simples as funcao_mutacao1\n",
    "from funcoes_fera_4_12 import mutacao_salto as funcao_mutacao2"
   ]
  },
  {
   "cell_type": "code",
   "execution_count": 5,
   "metadata": {},
   "outputs": [],
   "source": [
    "CARACTERES_POSSIVEIS = ascii_lowercase\n",
    "\n",
    "TAMANHO_POPULACAO = 100\n",
    "TAMANHO_PALINDROMO = 5\n",
    "CHANCE_DE_CRUZAMENTO = 0.5\n",
    "CHANCE_DE_MUTACAO = 0.025\n",
    "TAMANHO_TORNEIO = 3\n",
    "\n",
    "populacao = cria_populacao(TAMANHO_POPULACAO, TAMANHO_PALINDROMO, CARACTERES_POSSIVEIS)\n",
    "menor_fitness_geral = float(\"inf\")\n",
    "geracao = 0\n"
   ]
  },
  {
   "cell_type": "code",
   "execution_count": 6,
   "metadata": {},
   "outputs": [
    {
     "data": {
      "text/plain": [
       "100"
      ]
     },
     "execution_count": 6,
     "metadata": {},
     "output_type": "execute_result"
    }
   ],
   "source": [
    "len(populacao)"
   ]
  },
  {
   "cell_type": "code",
   "execution_count": 7,
   "metadata": {},
   "outputs": [],
   "source": [
    "fitness = funcao_objetivo(populacao)        \n",
    "selecionados = funcao_selecao(populacao, fitness, TAMANHO_TORNEIO)"
   ]
  },
  {
   "cell_type": "code",
   "execution_count": 8,
   "metadata": {},
   "outputs": [
    {
     "data": {
      "text/plain": [
       "[['u', 'j', 'c', 'm', 'v'],\n",
       " ['d', 'r', 'a', 'm', 'b'],\n",
       " ['u', 'n', 'c', 'z', 'o'],\n",
       " ['c', 'i', 's', 'u', 'b'],\n",
       " ['p', 'h', 't', 'i', 'x'],\n",
       " ['k', 'p', 'i', 'h', 'k'],\n",
       " ['u', 'x', 'v', 'o', 'j'],\n",
       " ['v', 'q', 'l', 'u', 'o'],\n",
       " ['i', 'x', 's', 'v', 'd'],\n",
       " ['w', 'h', 'w', 'i', 'a'],\n",
       " ['u', 'j', 'c', 'm', 'v'],\n",
       " ['j', 'x', 's', 'u', 's'],\n",
       " ['q', 'm', 'l', 'i', 'p'],\n",
       " ['k', 'p', 'i', 'h', 'k'],\n",
       " ['d', 'r', 'r', 'u', 'v'],\n",
       " ['e', 'w', 'd', 'n', 'o'],\n",
       " ['c', 'i', 's', 'u', 'b'],\n",
       " ['k', 'g', 'o', 'y', 'w'],\n",
       " ['s', 'o', 'p', 'l', 'd'],\n",
       " ['f', 'u', 'b', 'o', 'q'],\n",
       " ['n', 'u', 'b', 'p', 'j'],\n",
       " ['j', 'x', 's', 'u', 's'],\n",
       " ['k', 'y', 'i', 'o', 'i'],\n",
       " ['f', 'u', 'q', 'w', 'x'],\n",
       " ['p', 'i', 'g', 'p', 'j'],\n",
       " ['n', 'z', 'e', 'z', 'r'],\n",
       " ['p', 'e', 't', 'p', 'u'],\n",
       " ['p', 'g', 'm', 'u', 'm'],\n",
       " ['u', 'j', 'c', 'm', 'v'],\n",
       " ['y', 'd', 'u', 'j', 'o'],\n",
       " ['u', 'r', 'q', 'k', 's'],\n",
       " ['p', 'h', 't', 'i', 'x'],\n",
       " ['i', 'x', 's', 'v', 'd'],\n",
       " ['n', 'n', 'a', 'f', 'a'],\n",
       " ['k', 'o', 'n', 'o', 'd'],\n",
       " ['q', 'v', 'g', 'r', 'o'],\n",
       " ['q', 'm', 'l', 'i', 'p'],\n",
       " ['m', 'p', 'b', 'e', 'b'],\n",
       " ['d', 'r', 'a', 'm', 'b'],\n",
       " ['z', 'o', 'v', 'h', 'v'],\n",
       " ['k', 'p', 'i', 'h', 'k'],\n",
       " ['r', 'k', 'u', 'i', 'h'],\n",
       " ['s', 'o', 'p', 'l', 'd'],\n",
       " ['d', 'r', 'a', 'm', 'b'],\n",
       " ['y', 'u', 'h', 'd', 'v'],\n",
       " ['n', 'z', 'e', 'z', 'r'],\n",
       " ['d', 'v', 'u', 'n', 'd'],\n",
       " ['p', 'i', 'g', 'p', 'j'],\n",
       " ['f', 'u', 'b', 'o', 'q'],\n",
       " ['k', 'y', 'i', 'o', 'i'],\n",
       " ['e', 's', 'd', 'z', 'j'],\n",
       " ['r', 'k', 'u', 'i', 'h'],\n",
       " ['i', 'x', 's', 'v', 'd'],\n",
       " ['u', 'h', 'z', 'q', 'q'],\n",
       " ['w', 'h', 'w', 'i', 'a'],\n",
       " ['d', 'r', 'r', 'u', 'v'],\n",
       " ['g', 'z', 'f', 'o', 'k'],\n",
       " ['i', 'x', 'p', 'p', 'e'],\n",
       " ['h', 'u', 'v', 'e', 'e'],\n",
       " ['t', 'p', 'g', 'n', 'i'],\n",
       " ['n', 'z', 'e', 'z', 'r'],\n",
       " ['e', 'g', 'v', 'd', 'l'],\n",
       " ['n', 'u', 'b', 'p', 'j'],\n",
       " ['d', 'v', 'u', 'n', 'd'],\n",
       " ['i', 'c', 'c', 'l', 'm'],\n",
       " ['v', 'u', 'v', 'n', 'r'],\n",
       " ['n', 'z', 'e', 'z', 'r'],\n",
       " ['d', 'r', 'a', 'm', 'b'],\n",
       " ['d', 'r', 'a', 'm', 'b'],\n",
       " ['k', 'y', 'i', 'o', 'i'],\n",
       " ['v', 'q', 'l', 'u', 'o'],\n",
       " ['w', 'q', 'l', 'o', 't'],\n",
       " ['i', 'k', 'h', 'x', 'q'],\n",
       " ['m', 'j', 'i', 'k', 'g'],\n",
       " ['w', 'q', 'l', 'o', 't'],\n",
       " ['v', 'a', 'i', 'l', 'l'],\n",
       " ['s', 'o', 'p', 'l', 'd'],\n",
       " ['e', 's', 'd', 'z', 'j'],\n",
       " ['t', 'p', 'g', 'n', 'i'],\n",
       " ['u', 'h', 'z', 'q', 'q'],\n",
       " ['m', 'j', 'i', 'k', 'g'],\n",
       " ['r', 'k', 'u', 'i', 'h'],\n",
       " ['n', 't', 'u', 'p', 'n'],\n",
       " ['d', 'k', 'u', 'i', 'r'],\n",
       " ['z', 'o', 'v', 'h', 'v'],\n",
       " ['e', 'g', 'v', 'd', 'l'],\n",
       " ['k', 'o', 'n', 'o', 'd'],\n",
       " ['u', 'r', 'q', 'k', 's'],\n",
       " ['n', 't', 'u', 'p', 'n'],\n",
       " ['o', 'l', 'u', 'e', 'f'],\n",
       " ['i', 'x', 's', 'v', 'd'],\n",
       " ['e', 'w', 'd', 'n', 'o'],\n",
       " ['e', 'd', 'u', 's', 'm'],\n",
       " ['v', 'd', 'k', 'u', 'v'],\n",
       " ['h', 'u', 'v', 'e', 'e'],\n",
       " ['l', 'o', 'j', 's', 't'],\n",
       " ['q', 'm', 'l', 'i', 'p'],\n",
       " ['n', 't', 'u', 'p', 'n'],\n",
       " ['t', 'p', 'g', 'n', 'i'],\n",
       " ['e', 'd', 'u', 's', 'm']]"
      ]
     },
     "execution_count": 8,
     "metadata": {},
     "output_type": "execute_result"
    }
   ],
   "source": [
    "selecionados"
   ]
  },
  {
   "cell_type": "code",
   "execution_count": 9,
   "metadata": {},
   "outputs": [
    {
     "name": "stdout",
     "output_type": "stream",
     "text": [
      "1 uvtxu\n",
      "2 idmdh\n",
      "4 qvlvq\n",
      "1 wkkjw\n",
      "5 wjkjw\n",
      "1 ocpcp\n",
      "4 zcpcz\n",
      "1 oqxqo\n",
      "1 otvtn\n",
      "2 ntvtn\n",
      "1 ayjwa\n",
      "2 nhyin\n",
      "4 azjza\n",
      "1 ikeki\n",
      "1 ifrei\n",
      "2 wuouw\n",
      "1 aeeeb\n",
      "7 kcqck\n",
      "1 nicin\n"
     ]
    }
   ],
   "source": [
    "palindromos = []\n",
    "\n",
    "for _ in range(10):\n",
    "\n",
    "    CARACTERES_POSSIVEIS = ascii_lowercase\n",
    "\n",
    "    TAMANHO_POPULACAO = 100\n",
    "    TAMANHO_PALINDROMO = 5\n",
    "    CHANCE_DE_CRUZAMENTO = 0.5\n",
    "    CHANCE_DE_MUTACAO = 0.025\n",
    "    TAMANHO_TORNEIO = 3\n",
    "\n",
    "    populacao = cria_populacao(TAMANHO_POPULACAO, TAMANHO_PALINDROMO, CARACTERES_POSSIVEIS)\n",
    "    menor_fitness_geral = float(\"inf\")\n",
    "    geracao = 0\n",
    "    \n",
    "    while menor_fitness_geral != 0:\n",
    "        \n",
    "        # Seleção\n",
    "        fitness = funcao_objetivo(populacao)        \n",
    "        selecionados = funcao_selecao(populacao, fitness, TAMANHO_TORNEIO)\n",
    "        \n",
    "        # Cruzamento\n",
    "        proxima_geracao = []\n",
    "        for pai, mae in zip(selecionados[::2], selecionados[1::2]):\n",
    "            individuo1, individuo2 = funcao_cruzamento(pai, mae, CHANCE_DE_CRUZAMENTO)\n",
    "            proxima_geracao.append(individuo1)\n",
    "            proxima_geracao.append(individuo2)\n",
    "        \n",
    "        # Mutação\n",
    "        funcao_mutacao1(proxima_geracao, CHANCE_DE_MUTACAO, list(CARACTERES_POSSIVEIS))\n",
    "        funcao_mutacao2(proxima_geracao, CHANCE_DE_MUTACAO, list(CARACTERES_POSSIVEIS))\n",
    "        \n",
    "        # Encerramento\n",
    "        populacao = proxima_geracao\n",
    "        geracao += 1\n",
    "\n",
    "        \n",
    "        fitness = funcao_objetivo(populacao)\n",
    "        menor_fitness_observado = min(fitness)\n",
    "        \n",
    "        if menor_fitness_observado < menor_fitness_geral:\n",
    "            menor_fitness_geral = menor_fitness_observado\n",
    "            indice = fitness.index(menor_fitness_observado)\n",
    "            candidato = populacao[indice]\n",
    "            print(geracao, \"\".join(candidato))\n",
    "\n",
    "    indice = fitness.index(menor_fitness_geral)\n",
    "    palindromos.append(populacao[indice])\n",
    "\n"
   ]
  },
  {
   "cell_type": "code",
   "execution_count": 10,
   "metadata": {},
   "outputs": [
    {
     "data": {
      "text/plain": [
       "[['q', 'v', 'l', 'v', 'q'],\n",
       " ['w', 'j', 'k', 'j', 'w'],\n",
       " ['z', 'c', 'p', 'c', 'z'],\n",
       " ['o', 'q', 'x', 'q', 'o'],\n",
       " ['n', 't', 'v', 't', 'n'],\n",
       " ['a', 'z', 'j', 'z', 'a'],\n",
       " ['i', 'k', 'e', 'k', 'i'],\n",
       " ['w', 'u', 'o', 'u', 'w'],\n",
       " ['k', 'c', 'q', 'c', 'k'],\n",
       " ['n', 'i', 'c', 'i', 'n']]"
      ]
     },
     "execution_count": 10,
     "metadata": {},
     "output_type": "execute_result"
    }
   ],
   "source": [
    "palindromos"
   ]
  }
 ],
 "metadata": {
  "kernelspec": {
   "display_name": "base",
   "language": "python",
   "name": "python3"
  },
  "language_info": {
   "codemirror_mode": {
    "name": "ipython",
    "version": 3
   },
   "file_extension": ".py",
   "mimetype": "text/x-python",
   "name": "python",
   "nbconvert_exporter": "python",
   "pygments_lexer": "ipython3",
   "version": "3.11.5"
  }
 },
 "nbformat": 4,
 "nbformat_minor": 2
}
