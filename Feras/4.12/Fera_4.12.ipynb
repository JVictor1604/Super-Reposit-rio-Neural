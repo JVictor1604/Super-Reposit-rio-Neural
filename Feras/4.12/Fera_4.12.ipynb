{
 "cells": [
  {
   "cell_type": "markdown",
   "metadata": {},
   "source": []
  },
  {
   "cell_type": "markdown",
   "metadata": {},
   "source": [
    "Para garantir essa restrição em todas as etapas do algoritmo, foram adotadas as seguintes medidas:\n",
    "\n",
    "1. **Geração da população inicial**:\n",
    "   - Candidatos são gerados aleatoriamente até conterem pelo menos uma vogal.\n",
    "\n",
    "2. **Cruzamento**:\n",
    "   - Foi implementado um cruzamento uniforme personalizado que assegura que os filhos gerados recebam ao menos uma vogal, \n",
    "     mesmo quando os genes dos pais não são completamente balanceados em relação a vogais.\n",
    "\n",
    "3. **Mutação**:\n",
    "   - As funções de mutação (simples e por salto) evitam remover a única vogal presente em um indivíduo.\n",
    "   - Mutação só é aceita se, após a alteração, o indivíduo continuar contendo pelo menos uma vogal.\n",
    "\n",
    "Essas estratégias garantem que todos os indivíduos da população, desde a geração até as próximas gerações\n",
    "produzidas por cruzamento e mutação, respeitem a restrição do problema.\n",
    "\n",
    "\n",
    "\n"
   ]
  },
  {
   "cell_type": "markdown",
   "metadata": {},
   "source": [
    "Função Objetivo: Avaliação da qualidade de um candidato a palíndromo.\n",
    "\n",
    "A função `funcao_objetivo_palindromo` mede o quão próximo um indivíduo está de ser um palíndromo perfeito.\n",
    "\n",
    "Estratégia:\n",
    "- Compara os caracteres simetricamente posicionados (início com fim, segundo com penúltimo, etc.).\n",
    "- Para cada par, calcula a **distância absoluta entre os códigos ASCII** das letras.\n",
    "- Soma todas essas distâncias: quanto **menor o valor**, mais próximo o indivíduo está de ser um palíndromo.\n",
    "\n",
    "Resultado:\n",
    "- Um valor de **zero** indica que o indivíduo é um palíndromo perfeito (ex: \"radar\").\n",
    "- Valores maiores indicam maiores distorções em relação à simetria esperada de um palíndromo."
   ]
  },
  {
   "cell_type": "code",
   "execution_count": 1,
   "metadata": {},
   "outputs": [],
   "source": [
    "import random\n",
    "from string import ascii_lowercase\n",
    "from pprint import pprint\n",
    "\n",
    "from funcoes_fera_4_12 import populacao_palindromo as cria_populacao\n",
    "from funcoes_fera_4_12 import funcao_objetivo_pop_palindromo as funcao_objetivo\n",
    "from funcoes_fera_4_12 import selecao_torneio_min as funcao_selecao\n",
    "from funcoes_fera_4_12 import cruzamento_uniforme_com_vogal as funcao_cruzamento\n",
    "from funcoes_fera_4_12 import mutacao_simples as funcao_mutacao1\n",
    "from funcoes_fera_4_12 import mutacao_salto as funcao_mutacao2"
   ]
  },
  {
   "cell_type": "code",
   "execution_count": 2,
   "metadata": {},
   "outputs": [],
   "source": [
    "CARACTERES_POSSIVEIS = ascii_lowercase\n",
    "\n",
    "TAMANHO_POPULACAO = 100\n",
    "TAMANHO_PALINDROMO = 5\n",
    "CHANCE_DE_CRUZAMENTO = 0.5\n",
    "CHANCE_DE_MUTACAO = 0.025\n",
    "TAMANHO_TORNEIO = 3\n",
    "\n",
    "populacao = cria_populacao(TAMANHO_POPULACAO, TAMANHO_PALINDROMO, CARACTERES_POSSIVEIS)\n",
    "menor_fitness_geral = float(\"inf\")\n",
    "geracao = 0\n"
   ]
  },
  {
   "cell_type": "code",
   "execution_count": 3,
   "metadata": {},
   "outputs": [
    {
     "data": {
      "text/plain": [
       "100"
      ]
     },
     "execution_count": 3,
     "metadata": {},
     "output_type": "execute_result"
    }
   ],
   "source": [
    "len(populacao)"
   ]
  },
  {
   "cell_type": "code",
   "execution_count": 4,
   "metadata": {},
   "outputs": [],
   "source": [
    "fitness = funcao_objetivo(populacao)        \n",
    "selecionados = funcao_selecao(populacao, fitness, TAMANHO_TORNEIO)"
   ]
  },
  {
   "cell_type": "code",
   "execution_count": 5,
   "metadata": {},
   "outputs": [
    {
     "data": {
      "text/plain": [
       "[['i', 't', 'y', 'w', 'l'],\n",
       " ['q', 'q', 'u', 'm', 'm'],\n",
       " ['p', 'o', 'u', 'a', 'h'],\n",
       " ['j', 'd', 'e', 'c', 'm'],\n",
       " ['j', 'g', 'o', 'd', 'h'],\n",
       " ['p', 'q', 'l', 'u', 'i'],\n",
       " ['x', 'i', 'y', 'd', 'y'],\n",
       " ['j', 'g', 'o', 'd', 'h'],\n",
       " ['w', 's', 'o', 'q', 'x'],\n",
       " ['w', 's', 'o', 'q', 'x'],\n",
       " ['u', 'm', 's', 'b', 'q'],\n",
       " ['n', 'u', 'j', 't', 'w'],\n",
       " ['o', 'k', 's', 't', 's'],\n",
       " ['f', 'u', 'v', 'n', 'd'],\n",
       " ['i', 't', 'y', 'w', 'l'],\n",
       " ['a', 'q', 'h', 'q', 'r'],\n",
       " ['j', 'g', 'o', 'd', 'h'],\n",
       " ['j', 'g', 'o', 'd', 'h'],\n",
       " ['a', 'd', 'v', 'b', 'd'],\n",
       " ['n', 'x', 'c', 'o', 'q'],\n",
       " ['p', 'g', 'u', 'm', 'k'],\n",
       " ['r', 'i', 'e', 'i', 'h'],\n",
       " ['e', 'n', 'y', 'h', 's'],\n",
       " ['f', 'u', 'v', 'n', 'd'],\n",
       " ['o', 'o', 'a', 'n', 'j'],\n",
       " ['h', 'a', 't', 'f', 'b'],\n",
       " ['t', 'n', 'c', 'o', 'v'],\n",
       " ['a', 'g', 'k', 'j', 'c'],\n",
       " ['p', 'i', 'c', 'i', 'k'],\n",
       " ['a', 'g', 'k', 'j', 'c'],\n",
       " ['t', 'n', 'c', 'o', 'v'],\n",
       " ['p', 'g', 'u', 'm', 'k'],\n",
       " ['h', 's', 's', 'w', 'e'],\n",
       " ['t', 'n', 'c', 'o', 'v'],\n",
       " ['f', 'u', 'v', 'n', 'd'],\n",
       " ['o', 'o', 'a', 'n', 'j'],\n",
       " ['j', 'g', 'o', 'd', 'h'],\n",
       " ['e', 'g', 'b', 'i', 'a'],\n",
       " ['d', 's', 'z', 'z', 'a'],\n",
       " ['a', 'q', 'h', 'q', 'r'],\n",
       " ['o', 'e', 'v', 'g', 'p'],\n",
       " ['o', 'e', 'v', 'g', 'p'],\n",
       " ['o', 'l', 'n', 'r', 'k'],\n",
       " ['w', 's', 'o', 'q', 'x'],\n",
       " ['d', 's', 'z', 'z', 'a'],\n",
       " ['e', 'c', 'r', 'a', 'g'],\n",
       " ['o', 'k', 's', 't', 's'],\n",
       " ['x', 'i', 'y', 'd', 'y'],\n",
       " ['q', 's', 'e', 'x', 'u'],\n",
       " ['i', 't', 'y', 'w', 'l'],\n",
       " ['j', 'g', 'o', 'd', 'h'],\n",
       " ['a', 'g', 'k', 'j', 'c'],\n",
       " ['e', 'c', 'r', 'a', 'g'],\n",
       " ['j', 'd', 'e', 'c', 'm'],\n",
       " ['q', 'o', 'z', 'h', 'p'],\n",
       " ['t', 'n', 'c', 'o', 'v'],\n",
       " ['o', 'o', 'a', 'n', 'j'],\n",
       " ['c', 't', 'e', 'q', 'h'],\n",
       " ['w', 's', 'o', 'q', 'x'],\n",
       " ['q', 'q', 'u', 'm', 'm'],\n",
       " ['j', 'g', 'o', 'd', 'h'],\n",
       " ['o', 't', 'f', 'd', 'q'],\n",
       " ['o', 'e', 'v', 'g', 'p'],\n",
       " ['q', 'p', 'b', 'i', 'h'],\n",
       " ['p', 'g', 'u', 'm', 'k'],\n",
       " ['p', 'g', 'u', 'm', 'k'],\n",
       " ['s', 'v', 'y', 'q', 'a'],\n",
       " ['p', 'i', 'c', 'i', 'k'],\n",
       " ['i', 't', 'y', 'w', 'l'],\n",
       " ['x', 'i', 'y', 'd', 'y'],\n",
       " ['e', 'g', 'b', 'i', 'a'],\n",
       " ['e', 'c', 'r', 'a', 'g'],\n",
       " ['a', 'd', 'v', 'b', 'd'],\n",
       " ['o', 'o', 'a', 'n', 'j'],\n",
       " ['p', 'o', 'u', 'a', 'h'],\n",
       " ['p', 'q', 'l', 'u', 'i'],\n",
       " ['t', 'e', 'q', 'o', 'q'],\n",
       " ['w', 's', 'o', 'q', 'x'],\n",
       " ['h', 's', 's', 'w', 'e'],\n",
       " ['n', 'i', 'd', 'g', 'g'],\n",
       " ['i', 't', 'y', 'w', 'l'],\n",
       " ['a', 'g', 'k', 'j', 'c'],\n",
       " ['x', 'f', 'g', 'e', 'q'],\n",
       " ['e', 'g', 'b', 'i', 'a'],\n",
       " ['n', 'u', 'p', 'k', 'w'],\n",
       " ['i', 'a', 'e', 'l', 'd'],\n",
       " ['u', 'o', 'w', 'z', 's'],\n",
       " ['v', 'a', 'x', 'f', 'm'],\n",
       " ['i', 't', 'y', 'w', 'l'],\n",
       " ['a', 'g', 'k', 'j', 'c'],\n",
       " ['e', 'c', 'r', 'a', 'g'],\n",
       " ['x', 'f', 'g', 'e', 'q'],\n",
       " ['q', 'p', 'b', 'i', 'h'],\n",
       " ['p', 'g', 'u', 'm', 'k'],\n",
       " ['h', 'a', 't', 'f', 'b'],\n",
       " ['x', 'i', 'y', 'd', 'y'],\n",
       " ['o', 'e', 'v', 'g', 'p'],\n",
       " ['q', 's', 'e', 'x', 'u'],\n",
       " ['o', 'e', 'v', 'g', 'p'],\n",
       " ['f', 'n', 'z', 'a', 'o']]"
      ]
     },
     "execution_count": 5,
     "metadata": {},
     "output_type": "execute_result"
    }
   ],
   "source": [
    "selecionados"
   ]
  },
  {
   "cell_type": "code",
   "execution_count": 6,
   "metadata": {},
   "outputs": [
    {
     "name": "stdout",
     "output_type": "stream",
     "text": [
      "1 etotb\n",
      "3 ctotb\n",
      "4 ctotc\n",
      "1 nawal\n",
      "3 rgofr\n",
      "6 racar\n",
      "1 osgrq\n",
      "4 ogggo\n",
      "1 tecft\n",
      "4 tecet\n",
      "1 ilblj\n",
      "3 mabam\n",
      "1 ahghb\n",
      "4 ihghi\n",
      "1 hemeg\n",
      "6 cemec\n",
      "1 czuza\n",
      "2 yzuzx\n",
      "5 twiwt\n",
      "1 tfcet\n",
      "5 ruuur\n",
      "1 hefdi\n",
      "4 jsasi\n",
      "8 ivkvi\n"
     ]
    }
   ],
   "source": [
    "palindromos = []\n",
    "\n",
    "for _ in range(10):\n",
    "\n",
    "    CARACTERES_POSSIVEIS = ascii_lowercase\n",
    "\n",
    "    TAMANHO_POPULACAO = 100\n",
    "    TAMANHO_PALINDROMO = 5\n",
    "    CHANCE_DE_CRUZAMENTO = 0.5\n",
    "    CHANCE_DE_MUTACAO = 0.025\n",
    "    TAMANHO_TORNEIO = 3\n",
    "\n",
    "    populacao = cria_populacao(TAMANHO_POPULACAO, TAMANHO_PALINDROMO, CARACTERES_POSSIVEIS)\n",
    "    menor_fitness_geral = float(\"inf\")\n",
    "    geracao = 0\n",
    "    \n",
    "    while menor_fitness_geral != 0:\n",
    "        \n",
    "        # Seleção\n",
    "        fitness = funcao_objetivo(populacao)        \n",
    "        selecionados = funcao_selecao(populacao, fitness, TAMANHO_TORNEIO)\n",
    "        \n",
    "        # Cruzamento\n",
    "        proxima_geracao = []\n",
    "        for pai, mae in zip(selecionados[::2], selecionados[1::2]):\n",
    "            individuo1, individuo2 = funcao_cruzamento(pai, mae, CHANCE_DE_CRUZAMENTO)\n",
    "            proxima_geracao.append(individuo1)\n",
    "            proxima_geracao.append(individuo2)\n",
    "        \n",
    "        # Mutação\n",
    "        funcao_mutacao1(proxima_geracao, CHANCE_DE_MUTACAO, list(CARACTERES_POSSIVEIS))\n",
    "        funcao_mutacao2(proxima_geracao, CHANCE_DE_MUTACAO, list(CARACTERES_POSSIVEIS))\n",
    "        \n",
    "        # Encerramento\n",
    "        populacao = proxima_geracao\n",
    "        geracao += 1\n",
    "\n",
    "        \n",
    "        fitness = funcao_objetivo(populacao)\n",
    "        menor_fitness_observado = min(fitness)\n",
    "        \n",
    "        if menor_fitness_observado < menor_fitness_geral:\n",
    "            menor_fitness_geral = menor_fitness_observado\n",
    "            indice = fitness.index(menor_fitness_observado)\n",
    "            candidato = populacao[indice]\n",
    "            print(geracao, \"\".join(candidato))\n",
    "\n",
    "    indice = fitness.index(menor_fitness_geral)\n",
    "    palindromos.append(populacao[indice])\n",
    "\n"
   ]
  },
  {
   "cell_type": "code",
   "execution_count": 8,
   "metadata": {},
   "outputs": [
    {
     "name": "stdout",
     "output_type": "stream",
     "text": [
      "['ctotc', 'racar', 'ogggo', 'tecet', 'mabam', 'ihghi', 'cemec', 'twiwt', 'ruuur', 'ivkvi']\n"
     ]
    }
   ],
   "source": [
    "palindromos\n",
    "\n",
    "palindrimos_encontrados = [''.join(palavra) for palavra in palindromos]\n",
    "\n",
    "print(palindrimos_encontrados )"
   ]
  },
  {
   "cell_type": "markdown",
   "metadata": {},
   "source": [
    "Conclusão\n",
    "\n",
    "O algoritmo genético proposto foi eficaz na resolução do problema, conseguindo gerar 10 candidatos que atendem aos critérios estabelecidos: formar palíndromos e conter pelo menos uma vogal. As adaptações nas funções de geração, cruzamento e mutação garantiram o respeito a essas restrições, permitindo que a população evoluísse corretamente até soluções válidas. O resultado mostra que, com ajustes direcionados, algoritmos genéticos podem resolver problemas simbólicos com sucesso."
   ]
  }
 ],
 "metadata": {
  "kernelspec": {
   "display_name": "base",
   "language": "python",
   "name": "python3"
  },
  "language_info": {
   "codemirror_mode": {
    "name": "ipython",
    "version": 3
   },
   "file_extension": ".py",
   "mimetype": "text/x-python",
   "name": "python",
   "nbconvert_exporter": "python",
   "pygments_lexer": "ipython3",
   "version": "3.11.5"
  }
 },
 "nbformat": 4,
 "nbformat_minor": 2
}
