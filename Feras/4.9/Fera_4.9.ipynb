{
 "cells": [
  {
   "cell_type": "markdown",
   "metadata": {},
   "source": [
    "### Fera formidável 4.9 - Senha de tamanho variável\n",
    "\n",
    "Alunos: José Victor da Silva Izidório e Lucas Nascimento da Silva\n",
    "\n",
    "#### Enunciado:\n",
    "Objetivo: Resolver o problema da senha de forma que você não forneça a informação\n",
    "do tamanho da senha para a função que gera a população. Considere que a senha pode\n",
    "ser uma string de 1 até 30 caracteres.\n",
    "\n",
    "Dica: A função objetivo terá que quantificar em sua métrica tanto se o candidato\n",
    "acertou as letras quanto se acertou o tamanho da senha.\n",
    "\n",
    "Dica 2: Você pode criar diferentes estratégias de mutação, não precisa ser apensa\n",
    "uma! Quem sabe uma função de mutação pode alterar letras e a outra pode alterar o\n",
    "tamanho da senha? Ver o exercício “Praticamente um X-man!”.\n",
    "\n",
    "Dica 3: Observe que você terá que pensar um pouco sobre como fará o cruzamento no\n",
    "caso de senhas de tamanhos diferentes. Quem sabe tenha que fazer alguma consideração\n",
    "adicional sobre quais são os valores possíveis para o ponto de corte…\n",
    "\n",
    "### Mudanças em relação ao problema da senha original\n",
    "\n",
    "Todas mudanças feitas no código estão descritas abaixo e foram feitas tomando como base o notebook Descobrindo a senha do professor Dr. Daniel Roberto Cassar, da referência 1.\n",
    "\n",
    "**Criação do candidato**\n",
    "\n",
    "A alteração feita na função criação do candidato foi fazer ela gerar senhas com um valor aleatório que representa seu tamanho e está dentro de um intervalo definido.\n",
    "\n",
    "**Função objetivo**\n",
    "\n",
    "Para a função objetivo, adicionamos na métrica de distância um valor que corresponde a diferença de tamanho entre o candidato e a senha original. Sendo assim, quanto menor essa diferença, menor será a distância entre ambos. Entretanto, a distância entre caracteres continua válida.\n",
    "\n",
    "**Cruzamento**\n",
    "\n",
    "Adaptamos o código da função cruzamento para funcionar se os indivíduos pai e mãe fossem de tamanho diferente. Se o maior indivíduo for o pai adaptamos ele o deixando do mesmo tamanho da mãe, e vice versa, retirando os n últimos genes do pai. Dessa forma, garantimos que eles possam trocar seus genes. Entretanto, para não perdernos a informação extra do maior indivíduo nós adicionamos os genes extras do maior indivíduo no filho 2. \n",
    "\n",
    "Exemplo:\n",
    "\n",
    "`pai = [\"a\", \"b\", \"c\", \"d\", \"e\"]`\n",
    "\n",
    "`mãe = [\"f\", \"g\", \"h\"]`\n",
    "\n",
    "O filho 1 sempre terá o tamanho do menor progenitor, que nesse caso será a mãe, e poderá assumir, por exemplo, os valores:\n",
    "\n",
    "`filho1 = [\"a\", \"g\", \"c\"]`\n",
    "\n",
    "Já o filho 2 terá o tamanho do maior progenitor, que nesse caso será o pai, e poderá assumir, por exemplo, os valores:\n",
    "\n",
    "`filho2 = [\"f\", \"b\", \"h\", \"d\", \"e\"]`\n",
    " \n",
    "**Mutação**\n",
    "\n",
    "No contexto de algoritmos genéticos aplicados à evolução de senhas, é essencial permitir mutações que alterem o tamanho das cadeias de caracteres. Caso contrário, se a população não contiver indivíduos com o mesmo número de caracteres da senha-alvo, o algoritmo pode nunca convergir para a solução correta.\n",
    " \n",
    "Para lidar com isso, implementamos uma mutação específica que modifica o tamanho da senha. Quando essa mutação ocorre, o indivíduo pode ganhar ou perder um gene, com 50% de chance para cada possibilidade. A única exceção é quando o indivíduo possui apenas um gene — nesse caso, não é permitido remover um gene, pois a existência de uma senha vazia não é válida no contexto do problema.\n",
    " \n",
    "Além dessa mutação, também foram adicionadas a `mutacao_salto` e a `mutacao_simples` que altera o o valor associado a informação genética."
   ]
  },
  {
   "cell_type": "code",
   "execution_count": 1,
   "metadata": {},
   "outputs": [],
   "source": [
    "import random\n",
    "from string import ascii_lowercase, ascii_uppercase, digits\n",
    "\n",
    "from funcoes_4 import populacao_senha as cria_populacao\n",
    "from funcoes_4 import funcao_objetivo_pop_senha as funcao_objetivo\n",
    "from funcoes_4 import selecao_torneio_min as funcao_selecao\n",
    "from funcoes_4 import cruzamento_uniforme as funcao_cruzamento\n",
    "from funcoes_4 import mutacao_simples as funcao_mutacao1\n",
    "from funcoes_4 import mutacao_salto as funcao_mutacao2"
   ]
  },
  {
   "cell_type": "code",
   "execution_count": 2,
   "metadata": {},
   "outputs": [],
   "source": [
    "SENHA = list(\"UniaoSantozeiros2025\")\n",
    "CARACTERES_POSSIVEIS = ascii_lowercase + ascii_uppercase + digits\n",
    "\n",
    "TAMANHO_POPULACAO = 100\n",
    "CHANCE_DE_CRUZAMENTO = 0.5\n",
    "CHANCE_DE_MUTACAO = 0.025\n",
    "TAMANHO_TORNEIO = 3\n",
    "TAMANHO_MINIMO_SENHA = 1\n",
    "TAMANHO_MAXIMO_SENHA = 30\n",
    "\n",
    "populacao = cria_populacao(TAMANHO_POPULACAO, TAMANHO_MINIMO_SENHA, TAMANHO_MAXIMO_SENHA, CARACTERES_POSSIVEIS)\n",
    "menor_fitness_geral = float(\"inf\")\n",
    "geracao = 0"
   ]
  },
  {
   "cell_type": "code",
   "execution_count": 3,
   "metadata": {},
   "outputs": [
    {
     "name": "stdout",
     "output_type": "stream",
     "text": [
      "1 X\n",
      "3 S\n",
      "5 T\n",
      "10 U\n",
      "53 Un\n",
      "70 Uni\n",
      "109 Unia\n",
      "165 Uniao\n",
      "294 UniaoS\n",
      "343 UniaoSa\n",
      "428 UniaoSamt\n",
      "433 UniaoSant\n",
      "549 UniaoSanto\n",
      "649 UniaoSantoz\n",
      "668 UniaoSantoze\n",
      "706 UniaoSantozei\n",
      "722 UniaoSantozeir\n",
      "727 UniaoSantozeiro\n",
      "763 UniaoSantozeiros\n",
      "840 UniaoSantozeiros2\n",
      "860 UniaoSantozeiros20\n",
      "864 UniaoSantozeiros202\n",
      "942 UniaoSantozeiros2025\n"
     ]
    }
   ],
   "source": [
    "while menor_fitness_geral != 0:\n",
    "    \n",
    "    # Seleção\n",
    "    fitness = funcao_objetivo(populacao, SENHA)        \n",
    "    selecionados = funcao_selecao(populacao, fitness, TAMANHO_TORNEIO)\n",
    "    \n",
    "    # Cruzamento\n",
    "    proxima_geracao = []\n",
    "    for pai, mae in zip(selecionados[::2], selecionados[1::2]):\n",
    "        individuo1, individuo2 = funcao_cruzamento(pai, mae, CHANCE_DE_CRUZAMENTO)\n",
    "        proxima_geracao.append(individuo1)\n",
    "        proxima_geracao.append(individuo2)\n",
    "    \n",
    "    # Mutação\n",
    "    funcao_mutacao1(proxima_geracao, CHANCE_DE_MUTACAO, list(CARACTERES_POSSIVEIS))\n",
    "    funcao_mutacao2(proxima_geracao, CHANCE_DE_MUTACAO, list(CARACTERES_POSSIVEIS))\n",
    "    \n",
    "    # Encerramento\n",
    "    populacao = proxima_geracao\n",
    "    geracao += 1\n",
    "    \n",
    "    fitness = funcao_objetivo(populacao, SENHA)\n",
    "    menor_fitness_observado = min(fitness)\n",
    "    \n",
    "    if menor_fitness_observado < menor_fitness_geral:\n",
    "        menor_fitness_geral = menor_fitness_observado\n",
    "        indice = fitness.index(menor_fitness_observado)\n",
    "        candidato = populacao[indice]\n",
    "        print(geracao, \"\".join(candidato))"
   ]
  },
  {
   "cell_type": "markdown",
   "metadata": {},
   "source": [
    "### Conclusão\n",
    "\n",
    "As alterações conseguiram resolver o problema. Algo que percebemos na forma como o algoritimo funciona foi que ele forma uma escada se aproximando da senha correta se olharmos para a senha que corresponde ao maior fit observado. Isso se deve ao fato de que nesse código é mais provável alcançar uma distância maior da senha com um número maior para a senha que tem chance maior de ter caracteres errados."
   ]
  },
  {
   "cell_type": "markdown",
   "metadata": {},
   "source": [
    "### Referência\n",
    "\n",
    "1. Cassar, Daniel R. \"ATP-303 GA 4.2 - Notebook descobrindo a senha\"."
   ]
  }
 ],
 "metadata": {
  "kernelspec": {
   "display_name": "base",
   "language": "python",
   "name": "python3"
  },
  "language_info": {
   "codemirror_mode": {
    "name": "ipython",
    "version": 3
   },
   "file_extension": ".py",
   "mimetype": "text/x-python",
   "name": "python",
   "nbconvert_exporter": "python",
   "pygments_lexer": "ipython3",
   "version": "3.11.5"
  }
 },
 "nbformat": 4,
 "nbformat_minor": 2
}
