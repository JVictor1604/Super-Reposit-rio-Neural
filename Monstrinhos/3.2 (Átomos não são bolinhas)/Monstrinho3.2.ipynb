{
 "cells": [
  {
   "cell_type": "markdown",
   "metadata": {},
   "source": [
    "### 3.2 “Átomos não são bolinhas e ligações químicas não são pauzinhos” — Prof. Julio"
   ]
  },
  {
   "cell_type": "markdown",
   "metadata": {},
   "source": [
    "##### Objetivo: Utilize classes de Python para modelar elementos químicos e moléculas.\n",
    "\n",
    "##### Considerações do experimento: Crie uma classe chamada Elemento. Todo elemento químico utilizado nesta tarefa deve ser uma instância desta classe. Toda instância da classe Elemento deve ter os seguintes atributos: símbolo do elemento, número atômico do elemento e peso atômico do elemento (fique à vontade para incluir outras informações se quiser). Crie uma classe chamada Molecula. Esta classe deve receber um dicionário onde as chaves representam os elementos e os valores representam a quantidade do respectivo elemento. A classe Molecula deve ter um método capaz de exibir o peso atômico da molécula criada e um método capaz gerar uma fórmula química (em string) para esta molécula."
   ]
  },
  {
   "cell_type": "markdown",
   "metadata": {},
   "source": [
    "Vamos começar definindo a classe Elementos e seus atributos através da função ```__init__```. Após isso, vou definir a função ```__repr__``` que irá fazer uma descrição de cada elemento"
   ]
  },
  {
   "cell_type": "code",
   "execution_count": 35,
   "metadata": {},
   "outputs": [],
   "source": [
    "class Elemento:\n",
    "    \"\"\" Classe criada para representar elementos químicos \"\"\"\n",
    "\n",
    "    def __init__(self, simbolo, n_atomico, peso_atomico, radioativo):\n",
    "\n",
    "        self.simbolo = simbolo\n",
    "        self.n_atomico = n_atomico\n",
    "        self.peso_atomico = peso_atomico\n",
    "        self.radioativo = radioativo\n",
    "\n",
    "    def __repr__(self):\n",
    "\n",
    "        Radioatividade = \"não é\"\n",
    "\n",
    "        if self.radioativo == True:\n",
    "            Radioatividade = \"é\"\n",
    "\n",
    "        return(f\"Elemento químico {self.simbolo} com número atômico {self.n_atomico} e peso atômico {self.peso_atomico} ua e {Radioatividade} radioativo\")"
   ]
  },
  {
   "cell_type": "code",
   "execution_count": 36,
   "metadata": {},
   "outputs": [
    {
     "data": {
      "text/plain": [
       "Elemento químico H com número atômico 1 e peso atômico 1.008 ua e não é radioativo"
      ]
     },
     "execution_count": 36,
     "metadata": {},
     "output_type": "execute_result"
    }
   ],
   "source": [
    "Hidrogenio = Elemento(\"H\", 1, 1.008, False)\n",
    "\n",
    "Hidrogenio"
   ]
  },
  {
   "cell_type": "code",
   "execution_count": 37,
   "metadata": {},
   "outputs": [
    {
     "data": {
      "text/plain": [
       "Elemento químico He com número atômico 2 e peso atômico 4.0026 ua e não é radioativo"
      ]
     },
     "execution_count": 37,
     "metadata": {},
     "output_type": "execute_result"
    }
   ],
   "source": [
    "Helio = Elemento(\"He\", 2, 4.0026, False)\n",
    "\n",
    "Helio"
   ]
  },
  {
   "cell_type": "code",
   "execution_count": 38,
   "metadata": {},
   "outputs": [
    {
     "data": {
      "text/plain": [
       "Elemento químico Mo com número atômico 42 e peso atômico 95.95 ua e não é radioativo"
      ]
     },
     "execution_count": 38,
     "metadata": {},
     "output_type": "execute_result"
    }
   ],
   "source": [
    "Molibdenio = Elemento(\"Mo\", 42, 95.95, False)\n",
    "\n",
    "Molibdenio"
   ]
  },
  {
   "cell_type": "code",
   "execution_count": 39,
   "metadata": {},
   "outputs": [
    {
     "data": {
      "text/plain": [
       "Elemento químico O com número atômico 8 e peso atômico 15.999 ua e não é radioativo"
      ]
     },
     "execution_count": 39,
     "metadata": {},
     "output_type": "execute_result"
    }
   ],
   "source": [
    "Oxigenio = Elemento(\"O\", 8, 15.999, False)\n",
    "\n",
    "Oxigenio"
   ]
  },
  {
   "cell_type": "code",
   "execution_count": 40,
   "metadata": {},
   "outputs": [
    {
     "data": {
      "text/plain": [
       "Elemento químico Cm com número atômico 96 e peso atômico 247 ua e é radioativo"
      ]
     },
     "execution_count": 40,
     "metadata": {},
     "output_type": "execute_result"
    }
   ],
   "source": [
    "Curio = Elemento(\"Cm\", 96, 247, True)\n",
    "\n",
    "Curio"
   ]
  },
  {
   "cell_type": "code",
   "execution_count": 41,
   "metadata": {},
   "outputs": [
    {
     "data": {
      "text/plain": [
       "Elemento químico Cf com número atômico 98 e peso atômico 251 ua e é radioativo"
      ]
     },
     "execution_count": 41,
     "metadata": {},
     "output_type": "execute_result"
    }
   ],
   "source": [
    "Californio = Elemento(\"Cf\", 98, 251, True )\n",
    "\n",
    "Californio"
   ]
  },
  {
   "cell_type": "code",
   "execution_count": 42,
   "metadata": {},
   "outputs": [
    {
     "data": {
      "text/plain": [
       "Elemento químico S com número atômico 16 e peso atômico 32.06 ua e não é radioativo"
      ]
     },
     "execution_count": 42,
     "metadata": {},
     "output_type": "execute_result"
    }
   ],
   "source": [
    "Enxofre = Elemento(\"S\", 16, 32.06, False)\n",
    "\n",
    "Enxofre"
   ]
  },
  {
   "cell_type": "markdown",
   "metadata": {},
   "source": [
    "Agora vamos criar a classe Molécula que receberá um dicionário com a quantidade de cada elemento. A partir de métodos criados, vamos poder exibir o peso da molécula bem como sua fórmula. Irei criar várias moléculas reais ou fictícias para exibir seus atributos."
   ]
  },
  {
   "cell_type": "code",
   "execution_count": 43,
   "metadata": {},
   "outputs": [],
   "source": [
    "class Molecula:\n",
    "\n",
    "    def __init__(self, elementos_quantidades):\n",
    "        \"\"\"\n",
    "         Construtor para a classe Molecula.\n",
    "        \"\"\"\n",
    "        self.elementos_quantidades = elementos_quantidades\n",
    "\n",
    "    def calcular_peso_molecular(self):\n",
    "        \"\"\"\n",
    "        Calcula o peso molecular da molécula com base nos elementos e suas quantidades.\n",
    "        \"\"\"\n",
    "        peso_total = 0\n",
    "        \n",
    "        for elemento, quantidade in self.elementos_quantidades.items():\n",
    "            peso_total += elemento.peso_atomico * quantidade\n",
    "        \n",
    "        return peso_total\n",
    "    \n",
    "    def criar_formula(self):\n",
    "        \"\"\"Cria a fórmula de uma molécula\"\"\"\n",
    "\n",
    "        formula = \"\"\n",
    "\n",
    "        for elemento, quantidade in self.elementos_quantidades.items():\n",
    "\n",
    "            if quantidade > 1:\n",
    "                formula += f\"{elemento.simbolo}{quantidade}\"\n",
    "            else: formula += f\"{elemento.simbolo}\"\n",
    "\n",
    "        return formula\n",
    "\n",
    "    def __repr__(self):\n",
    "\n",
    "        formula = self.criar_formula()\n",
    "        peso_molecular = self.calcular_peso_molecular()\n",
    "\n",
    "        return f\"A fórmula da molécula é {formula} e possui a massa de {peso_molecular} ua\"\n",
    "            \n",
    "\n"
   ]
  },
  {
   "cell_type": "markdown",
   "metadata": {},
   "source": [
    "Agora vamos criar algumas moléculas e verificar seu peso atômico e formula"
   ]
  },
  {
   "cell_type": "code",
   "execution_count": 44,
   "metadata": {},
   "outputs": [
    {
     "data": {
      "text/plain": [
       "A fórmula da molécula é H2O e possui a massa de 18.015"
      ]
     },
     "execution_count": 44,
     "metadata": {},
     "output_type": "execute_result"
    }
   ],
   "source": [
    "elementos_agua = {\n",
    "    Hidrogenio: 2,  \n",
    "    Oxigenio: 1    \n",
    "}\n",
    "\n",
    "agua = Molecula(elementos_agua)\n",
    "\n",
    "\n",
    "agua"
   ]
  },
  {
   "cell_type": "code",
   "execution_count": 45,
   "metadata": {},
   "outputs": [
    {
     "data": {
      "text/plain": [
       "A fórmula da molécula é MoS2 e possui a massa de 160.07"
      ]
     },
     "execution_count": 45,
     "metadata": {},
     "output_type": "execute_result"
    }
   ],
   "source": [
    "elementos_MoS2 = {\n",
    "     Molibdenio: 1,\n",
    "     Enxofre: 2\n",
    "    \n",
    "}\n",
    "\n",
    "MoS2 = Molecula(elementos_MoS2)\n",
    "\n",
    "MoS2"
   ]
  },
  {
   "cell_type": "code",
   "execution_count": 46,
   "metadata": {},
   "outputs": [
    {
     "name": "stdout",
     "output_type": "stream",
     "text": [
      "A fórmula da molécula é H2O2 e possui a massa de 34.014\n"
     ]
    }
   ],
   "source": [
    "elementos_H2O2 = {\n",
    "    Hidrogenio: 2,\n",
    "    Oxigenio: 2\n",
    "}\n",
    "\n",
    "H2O2 = Molecula(elementos_H2O2)\n",
    "print(H2O2)\n"
   ]
  },
  {
   "cell_type": "code",
   "execution_count": 47,
   "metadata": {},
   "outputs": [
    {
     "name": "stdout",
     "output_type": "stream",
     "text": [
      "A fórmula da molécula é MoO3 e possui a massa de 143.947\n"
     ]
    }
   ],
   "source": [
    "elementos_MoO3 = {\n",
    "    Molibdenio: 1,\n",
    "    Oxigenio: 3\n",
    "}\n",
    "\n",
    "MoO3 = Molecula(elementos_MoO3)\n",
    "print(MoO3)\n"
   ]
  },
  {
   "cell_type": "code",
   "execution_count": 48,
   "metadata": {},
   "outputs": [
    {
     "name": "stdout",
     "output_type": "stream",
     "text": [
      "A fórmula da molécula é CmO3 e possui a massa de 294.997\n"
     ]
    }
   ],
   "source": [
    "elementos_CmO3 = {\n",
    "    Curio: 1,\n",
    "    Oxigenio: 3\n",
    "}\n",
    "\n",
    "CmO3 = Molecula(elementos_CmO3)\n",
    "print(CmO3)\n"
   ]
  },
  {
   "cell_type": "code",
   "execution_count": 49,
   "metadata": {},
   "outputs": [
    {
     "name": "stdout",
     "output_type": "stream",
     "text": [
      "A fórmula da molécula é CmMoO4 e possui a massa de 406.94599999999997\n"
     ]
    }
   ],
   "source": [
    "elementos_CmMoO4 = {\n",
    "    Curio: 1,\n",
    "    Molibdenio: 1,\n",
    "    Oxigenio: 4\n",
    "}\n",
    "\n",
    "CmMoO4 = Molecula(elementos_CmMoO4)\n",
    "print(CmMoO4)\n"
   ]
  },
  {
   "cell_type": "code",
   "execution_count": 50,
   "metadata": {},
   "outputs": [
    {
     "name": "stdout",
     "output_type": "stream",
     "text": [
      "A fórmula da molécula é MoHe3 e possui a massa de 107.9578\n"
     ]
    }
   ],
   "source": [
    "elementos_MoHe3 = {\n",
    "    Molibdenio: 1,\n",
    "    Helio: 3\n",
    "}\n",
    "\n",
    "MoHe3 = Molecula(elementos_MoHe3)\n",
    "print(MoHe3)\n"
   ]
  },
  {
   "cell_type": "markdown",
   "metadata": {},
   "source": []
  },
  {
   "cell_type": "markdown",
   "metadata": {},
   "source": []
  }
 ],
 "metadata": {
  "kernelspec": {
   "display_name": "base",
   "language": "python",
   "name": "python3"
  },
  "language_info": {
   "codemirror_mode": {
    "name": "ipython",
    "version": 3
   },
   "file_extension": ".py",
   "mimetype": "text/x-python",
   "name": "python",
   "nbconvert_exporter": "python",
   "pygments_lexer": "ipython3",
   "version": "3.11.5"
  }
 },
 "nbformat": 4,
 "nbformat_minor": 2
}
