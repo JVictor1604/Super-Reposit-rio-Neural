{
 "cells": [
  {
   "cell_type": "markdown",
   "metadata": {},
   "source": [
    "### 3.4 ```__dunder__```\n",
    "\n",
    "\n",
    "Objetivo: Se informe sobre métodos dunder que não foram utilizados no material de\n",
    "aula e crie uma classe que contenha pelo menos 3 destes métodos dunder. Faça códigos\n",
    "onde cada um destes métodos dunder seja acessado sem os chamar explicitamente (exemplo: não é para rodar ```a.__add__(b)``` mas sim a + b para o caso do dunder ```__add__```).\n",
    "\n",
    "Considerações do experimento: A classe deve conter pelo menos 3 métodos dunder\n",
    "que não foram vistos no material da disciplina. Sua classe deve fazer sentido, isto é, não\n",
    "crie uma classe “sem pé nem cabeça” apenas para a entrega. Reflita sobre uma classe\n",
    "onde os métodos dunder propostos realmente fazem sentido. Na sua entrega, explique\n",
    "brevemente o que fazem os métodos dunder que escolheu e mostre eles em ação com uma\n",
    "instância da sua classe."
   ]
  },
  {
   "cell_type": "markdown",
   "metadata": {},
   "source": [
    "### Estratégia\n",
    "\n",
    "A estratégia adotada para essa atividade foi a criação de uma classe chamada ```Filme```, onde foram implementados três métodos dunder que não foram abordados no material de aula. O objetivo era garantir que esses métodos fossem acessados de maneira implícita, ou seja, utilizando operadores padrão em vez de chamar diretamente os métodos mágicos. Isso proporciona uma abordagem mais natural e intuitiva para o código.\n",
    "\n",
    "A classe ```Filme``` foi modelada para representar filmes com atributos como nome, data de lançamento, diretor e gênero. Esses atributos permitem que os filmes sejam comparados de diferentes formas, o que justifica o uso de métodos dunder para implementar essas comparações."
   ]
  },
  {
   "cell_type": "code",
   "execution_count": 12,
   "metadata": {},
   "outputs": [],
   "source": [
    "class Filme:\n",
    "\n",
    "    def __init__(self, nome, data_lancamento, diretor, genero):\n",
    "\n",
    "        self.nome = nome\n",
    "        self.lancamento = data_lancamento\n",
    "        self.diretor = diretor\n",
    "        self.genero = genero\n",
    "\n",
    "    def __eq__(self, other):\n",
    "        if self.nome == other.nome and self.diretor == other.diretor :\n",
    "            return True\n",
    "        else: return False\n",
    "\n",
    "    def __gt__(self, other): \n",
    "        return self.lancamento > other.lancamento\n",
    "    \n",
    "    def __ne__(self, other):\n",
    "        return self.genero != other.genero\n",
    "\n",
    "\n"
   ]
  },
  {
   "cell_type": "markdown",
   "metadata": {},
   "source": [
    "```__eq__``` (Igualdade): O método ```__eq__``` foi utilizado para comparar se dois filmes são iguais. No caso, consideramos que dois filmes são iguais se tiverem o mesmo nome e o mesmo diretor. Esse método é invocado implicitamente ao utilizar o operador ==.\n",
    "\n",
    "```__gt__``` (Maior que): O método ```__gt__```foi usado para comparar se um filme é mais recente que outro. A comparação é feita com base na data de lançamento dos filmes. Esse método é acionado ao utilizar o operador >, permitindo verificar qual dos dois filmes foi lançado mais recentemente.\n",
    "\n",
    "```__ne__``` (Diferente): O método ```__ne__``` foi utilizado para comparar se dois filmes possuem gêneros diferentes. Esse método é invocado ao usar o operador !=, permitindo verificar se os filmes pertencem a gêneros distintos.\n",
    "\n",
    "Esses métodos dunder foram escolhidos porque fazem sentido no contexto de filmes, proporcionando comparações comuns, como verificar igualdade, comparar datas de lançamento e comparar gêneros. Além disso, a implementação desses métodos permite que o código seja mais legível e intuitivo, utilizando os operadores padrão sem a necessidade de chamar os métodos diretamente."
   ]
  },
  {
   "cell_type": "markdown",
   "metadata": {},
   "source": [
    "Instanciando filmes:"
   ]
  },
  {
   "cell_type": "code",
   "execution_count": 13,
   "metadata": {},
   "outputs": [],
   "source": [
    "forrest_gump = Filme(\"Forrest Gump\", \"1994-07-06\", \"Robert Zemeckis\", \"Drama\")  \n",
    "\n",
    "interestelar = Filme(\"Interestelar\", \"2014-11-07\", \"Christopher Nolan\", \"Ficção Científica\")\n",
    "\n",
    "o_poderoso_chefao = Filme(\"O Poderoso Chefão\", \"1972-03-24\", \"Francis Ford Coppola\", \"Crime\")\n",
    "\n",
    "clube_da_luta = Filme(\"Clube da Luta\", \"1999-10-15\", \"David Fincher\", \"Drama\")  \n",
    "\n",
    "matrix = Filme( \"Matrix\", \"1999-03-31\", \"Lana Wachowski, Lilly Wachowski\", \"Ficção Científica\")  \n",
    "\n",
    "cidade_de_deus = Filme(\"Cidade de Deus\", \"2002-08-30\", \"Fernando Meirelles, Kátia Lund\", \"Crime\")  \n",
    "\n",
    "a_origem = Filme(\"A Origem\", \"2010-07-16\", \"Christopher Nolan\", \"Ficção Científica\")\n",
    "\n",
    "o_senhor_dos_aneis = Filme(\"O Senhor dos Anéis: O Retorno do Rei\", \"2003-12-17\", \"Peter Jackson\", \"Fantasia\")  \n",
    "\n",
    "pulp_fiction = Filme(\"Pulp Fiction\", \"1994-10-14\", \"Quentin Tarantino\", \"Crime\")  \n"
   ]
  },
  {
   "cell_type": "markdown",
   "metadata": {},
   "source": [
    "Para executar os métodos irei gerar comparações iterando através de uma lista contendo todos os objetos instanciados. A idéia é que possamos visualizar os métodos dunder sendo utilizados por meio dos sinais ```==```, ```>``` e ```!=```"
   ]
  },
  {
   "cell_type": "code",
   "execution_count": 18,
   "metadata": {},
   "outputs": [
    {
     "name": "stdout",
     "output_type": "stream",
     "text": [
      "O filme Forrest Gump não é igual ao filme Clube da Luta\n",
      "\n",
      "O filme Forrest Gump é mais antigo que Clube da Luta\n",
      "\n",
      "O filme Forrest Gump não é do mesmo gênero que Clube da Luta\n",
      "\n",
      "O filme Clube da Luta não é igual ao filme O Poderoso Chefão\n",
      "\n",
      "O filme Clube da Luta é mais recente que O Poderoso Chefão\n",
      "\n",
      "O filme Clube da Luta é do mesmo gênero que O Poderoso Chefão\n",
      "\n",
      "O filme O Poderoso Chefão não é igual ao filme O Senhor dos Anéis: O Retorno do Rei\n",
      "\n",
      "O filme O Poderoso Chefão é mais antigo que O Senhor dos Anéis: O Retorno do Rei\n",
      "\n",
      "O filme O Poderoso Chefão é do mesmo gênero que O Senhor dos Anéis: O Retorno do Rei\n",
      "\n",
      "O filme O Senhor dos Anéis: O Retorno do Rei não é igual ao filme Cidade de Deus\n",
      "\n",
      "O filme O Senhor dos Anéis: O Retorno do Rei é mais recente que Cidade de Deus\n",
      "\n",
      "O filme O Senhor dos Anéis: O Retorno do Rei é do mesmo gênero que Cidade de Deus\n",
      "\n",
      "O filme Cidade de Deus não é igual ao filme Pulp Fiction\n",
      "\n",
      "O filme Cidade de Deus é mais recente que Pulp Fiction\n",
      "\n",
      "O filme Cidade de Deus não é do mesmo gênero que Pulp Fiction\n",
      "\n",
      "O filme Pulp Fiction não é igual ao filme Matrix\n",
      "\n",
      "O filme Pulp Fiction é mais antigo que Matrix\n",
      "\n",
      "O filme Pulp Fiction é do mesmo gênero que Matrix\n",
      "\n",
      "O filme Matrix não é igual ao filme Interestelar\n",
      "\n",
      "O filme Matrix é mais antigo que Interestelar\n",
      "\n",
      "O filme Matrix não é do mesmo gênero que Interestelar\n",
      "\n",
      "O filme Interestelar não é igual ao filme A Origem\n",
      "\n",
      "O filme Interestelar é mais recente que A Origem\n",
      "\n",
      "O filme Interestelar não é do mesmo gênero que A Origem\n",
      "\n"
     ]
    }
   ],
   "source": [
    "filmes = [forrest_gump, clube_da_luta, o_poderoso_chefao, o_senhor_dos_aneis, cidade_de_deus, pulp_fiction, matrix, interestelar, a_origem]\n",
    "\n",
    "for i in range(len(filmes) - 1):\n",
    "    filme_atual = filmes[i]\n",
    "    filme_proximo = filmes[i + 1]\n",
    "\n",
    "    if filme_atual == filme_proximo: \n",
    "        print(f\"O filme {filme_atual.nome} é igual ao filme {filme_proximo.nome}\")\n",
    "    else: \n",
    "        print(f\"O filme {filme_atual.nome} não é igual ao filme {filme_proximo.nome}\")\n",
    "    \n",
    "    print(\"\")  \n",
    "\n",
    "    if filme_atual > filme_proximo:\n",
    "        print(f\"O filme {filme_atual.nome} é mais recente que {filme_proximo.nome}\")\n",
    "    else: \n",
    "        print(f\"O filme {filme_atual.nome} é mais antigo que {filme_proximo.nome}\")\n",
    "\n",
    "    print(\"\") \n",
    "\n",
    "    if filme_atual != filme_proximo: \n",
    "        print(f\"O filme {filme_atual.nome} é do mesmo gênero que {filme_proximo.nome}\")\n",
    "    else: \n",
    "        print(f\"O filme {filme_atual.nome} não é do mesmo gênero que {filme_proximo.nome}\")\n",
    "\n",
    "    print(\"\") "
   ]
  },
  {
   "cell_type": "markdown",
   "metadata": {},
   "source": [
    "Os métodos dunder utilizados foram obtidos por meio do site: https://pt.stackoverflow.com/questions/176465/métodos-ou-dunder-em-python-quais-são-os-mais-utilizados \n"
   ]
  }
 ],
 "metadata": {
  "kernelspec": {
   "display_name": "base",
   "language": "python",
   "name": "python3"
  },
  "language_info": {
   "codemirror_mode": {
    "name": "ipython",
    "version": 3
   },
   "file_extension": ".py",
   "mimetype": "text/x-python",
   "name": "python",
   "nbconvert_exporter": "python",
   "pygments_lexer": "ipython3",
   "version": "3.11.5"
  }
 },
 "nbformat": 4,
 "nbformat_minor": 2
}
